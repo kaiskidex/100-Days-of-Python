{
 "cells": [
  {
   "cell_type": "markdown",
   "id": "e3631b5e",
   "metadata": {},
   "source": [
    "🧩 Warm-Up Exercises for Blackjack\n",
    "1. Deck & Random Cards\n",
    "\n",
    "Exercise:\n",
    "Write a function deal_card() that returns a random card from this list:\n",
    "\n",
    "cards = [11, 2, 3, 4, 5, 6, 7, 8, 9, 10, 10, 10, 10]  \n",
    "\n",
    "\n",
    "(11 = Ace, 10 appears 4 times for J/Q/K/10).\n",
    "\n",
    "Test by calling it 10 times."
   ]
  },
  {
   "cell_type": "code",
   "execution_count": null,
   "id": "7b66c6fa",
   "metadata": {},
   "outputs": [
    {
     "name": "stdout",
     "output_type": "stream",
     "text": [
      "4\n",
      "4\n",
      "2\n",
      "10\n",
      "10\n",
      "11\n",
      "4\n",
      "11\n",
      "10\n",
      "10\n"
     ]
    }
   ],
   "source": [
    "import random\n",
    "\n",
    "def deal_card():\n",
    "    cards = [11, 2, 3, 4, 5, 6, 7, 8, 9, 10, 10, 10, 10]\n",
    "    random_card = random.choice(cards)\n",
    "    return random_card\n",
    "\n",
    "# test \n",
    "count = 10\n",
    "\n",
    "while count != 0:\n",
    "    print(deal_card())\n",
    "    count -= 1\n"
   ]
  },
  {
   "cell_type": "code",
   "execution_count": 23,
   "id": "bae242f2",
   "metadata": {},
   "outputs": [
    {
     "name": "stdout",
     "output_type": "stream",
     "text": [
      "10\n",
      "10\n",
      "5\n",
      "2\n",
      "2\n",
      "11\n",
      "4\n",
      "9\n",
      "11\n",
      "4\n"
     ]
    }
   ],
   "source": [
    "import random\n",
    "\n",
    "def deal_card():\n",
    "    cards = [11, 2, 3, 4, 5, 6, 7, 8, 9, 10, 10, 10, 10]\n",
    "    return random.choice(cards)\n",
    "\n",
    "# test \n",
    "for _ in range(10):\n",
    "    print(deal_card())"
   ]
  },
  {
   "cell_type": "markdown",
   "id": "39ff4584",
   "metadata": {},
   "source": [
    "2. Hand Score Function\n",
    "\n",
    "Exercise:\n",
    "Write a function calculate_score(hand) that:\n",
    "\n",
    "Takes a list of cards (like [10, 11, 3]).\n",
    "\n",
    "Returns the sum.\n",
    "\n",
    "Special rule:\n",
    "\n",
    "If sum > 21 and there’s an Ace (11), turn it into 1.\n",
    "\n",
    "If hand = [10, 11] → return 0 (Blackjack).\n",
    "\n",
    "👉 This is the trickiest part of Blackjack logic."
   ]
  },
  {
   "cell_type": "code",
   "execution_count": null,
   "id": "b219004a",
   "metadata": {},
   "outputs": [
    {
     "name": "stdout",
     "output_type": "stream",
     "text": [
      "20\n",
      "0\n",
      "15\n"
     ]
    }
   ],
   "source": [
    "def calculate_score(hand):\n",
    "    # Blackjack\n",
    "    if sum(hand) == 21 and len(hand) == 2:\n",
    "        return 0\n",
    "    \n",
    "    #If sum > 21 and there’s an Ace (11), turn it into 1.\n",
    "    if 11 in hand and sum(hand) > 21:\n",
    "        hand.remove(11)\n",
    "        hand.append(1)\n",
    "\n",
    "    return sum(hand)\n",
    "\n",
    "print(calculate_score([9,11]))\n",
    "print(calculate_score([11, 10]))  \n",
    "print(calculate_score([11, 9, 5]))"
   ]
  },
  {
   "cell_type": "markdown",
   "id": "53697606",
   "metadata": {},
   "source": [
    "🚀 Exercise 3: Compare Scores\n",
    "\n",
    "Now you’ll build a function that compares the player’s score and the dealer’s score and returns the outcome of the game.\n",
    "\n",
    "Problem:\n",
    "\n",
    "Write a function compare(user_score, computer_score) that returns a string describing who wins.\n",
    "\n",
    "Rules to cover:\n",
    "\n",
    "If both scores are over 21 → \"You went over. You lose 😭\"\n",
    "\n",
    "If scores are equal → \"Draw 🙃\"\n",
    "\n",
    "If the computer has Blackjack (0) → \"Lose, opponent has Blackjack 😱\"\n",
    "\n",
    "If the user has Blackjack (0) → \"Win with a Blackjack 😎\"\n",
    "\n",
    "If user > 21 → \"You went over. You lose 😭\"\n",
    "\n",
    "If computer > 21 → \"Opponent went over. You win 😁\"\n",
    "\n",
    "If user > computer → \"You win 😃\"\n",
    "\n",
    "Else → \"You lose 😤\""
   ]
  },
  {
   "cell_type": "code",
   "execution_count": 36,
   "id": "5fa45a23",
   "metadata": {},
   "outputs": [
    {
     "name": "stdout",
     "output_type": "stream",
     "text": [
      "Scores went over\n",
      "Draw\n",
      "Lose, opponent has Blackjack\n",
      "You win with a Blackjack\n",
      "Lose, you went over\n",
      "Win, Opponent went over.\n",
      "You win\n",
      "You lose\n"
     ]
    }
   ],
   "source": [
    "def compare(user_score, computer_score):\n",
    "    if user_score > 21 and computer_score > 21:\n",
    "        return \"Scores went over\"\n",
    "    elif user_score == computer_score:\n",
    "        return \"Draw\"\n",
    "    elif computer_score == 0:\n",
    "        return \"Lose, opponent has Blackjack\"\n",
    "    elif user_score == 0:\n",
    "        return \"You win with a Blackjack\"\n",
    "    elif user_score > 21:\n",
    "        return \"Lose, you went over\"\n",
    "    elif computer_score > 21:\n",
    "        return \"Win, Opponent went over.\"  \n",
    "    elif user_score > computer_score:\n",
    "        return \"You win\"\n",
    "    else:\n",
    "        return \"You lose\"\n",
    "\n",
    "#testing all cases\n",
    "\n",
    "print(compare(25, 26))  \n",
    "print(compare(15, 15))\n",
    "print(compare(15, 0))\n",
    "print(compare(0, 17))\n",
    "print(compare(22, 17))\n",
    "print(compare(20, 22))\n",
    "print(compare(15, 13))\n",
    "print(compare(12, 18))\n"
   ]
  },
  {
   "cell_type": "markdown",
   "id": "73aef76b",
   "metadata": {},
   "source": [
    "Multiple Return Values\n",
    "\n",
    "Exercise:\n",
    "Write a function play_turn(hand) that returns two values:\n",
    "\n",
    "The updated hand (after being dealt one more card).\n",
    "\n",
    "The new score."
   ]
  },
  {
   "cell_type": "code",
   "execution_count": 18,
   "id": "40c1363c",
   "metadata": {},
   "outputs": [
    {
     "name": "stdout",
     "output_type": "stream",
     "text": [
      "([8, 3, 9], 20)\n"
     ]
    }
   ],
   "source": [
    "import random\n",
    "\n",
    "def deal_card():\n",
    "    cards = [11, 2, 3, 4, 5, 6, 7, 8, 9, 10, 10, 10, 10]\n",
    "    return random.choice(cards)\n",
    "\n",
    "\n",
    "def calculate_score(hand):\n",
    "    # Blackjack\n",
    "    if sum(hand) == 21 and len(hand) == 2:\n",
    "        return 0\n",
    "    \n",
    "    #If sum > 21 and there’s an Ace (11), turn it into 1.\n",
    "    if 11 in hand and sum(hand) > 21:\n",
    "        hand.remove(11)\n",
    "        hand.append(1)\n",
    "\n",
    "    \n",
    "    return sum(hand)\n",
    "\n",
    "\n",
    "def play_turn(hand):\n",
    "    updated_hand = hand.copy()\n",
    "    new_card = deal_card()\n",
    "    updated_hand.append(new_card)\n",
    "    new_score = calculate_score(updated_hand)\n",
    "    return updated_hand, new_score\n",
    "\n",
    "print(play_turn([8,3]))\n",
    "\n"
   ]
  },
  {
   "cell_type": "markdown",
   "id": "a82c621c",
   "metadata": {},
   "source": [
    "Prediction Challenge (mental exercise 🧠)\n",
    "\n",
    "What will be printed?\n",
    "\n",
    "def calculate_score(hand):\n",
    "    if sum(hand) == 21 and len(hand) == 2:\n",
    "        return 0\n",
    "    if 11 in hand and sum(hand) > 21:\n",
    "        hand.remove(11)\n",
    "        hand.append(1)\n",
    "    return sum(hand)\n",
    "\n",
    "print(calculate_score([10, 11])) # 0\n",
    "print(calculate_score([11, 9, 2])) # 12\n",
    "\n"
   ]
  },
  {
   "cell_type": "code",
   "execution_count": 19,
   "id": "f59cbbeb",
   "metadata": {},
   "outputs": [
    {
     "name": "stdout",
     "output_type": "stream",
     "text": [
      "0\n",
      "12\n"
     ]
    }
   ],
   "source": [
    "def calculate_score(hand):\n",
    "    if sum(hand) == 21 and len(hand) == 2:\n",
    "        return 0\n",
    "    if 11 in hand and sum(hand) > 21:\n",
    "        hand.remove(11)\n",
    "        hand.append(1)\n",
    "    return sum(hand)\n",
    "\n",
    "print(calculate_score([10, 11])) # 0\n",
    "print(calculate_score([11, 9, 2])) # 22 "
   ]
  },
  {
   "cell_type": "markdown",
   "id": "5162cce0",
   "metadata": {},
   "source": [
    "⚡ Suggested Mini-Project Before Full Blackjack\n",
    "\n",
    "Make a “Baby Blackjack”:\n",
    "\n",
    "Player and dealer each get 1 card.\n",
    "\n",
    "Highest card wins (no ace rules yet).\n",
    "\n",
    "Print out results.\n",
    "\n",
    "This is like training wheels before the real game.\n"
   ]
  },
  {
   "cell_type": "code",
   "execution_count": 21,
   "id": "ac9fb8c9",
   "metadata": {},
   "outputs": [
    {
     "name": "stdout",
     "output_type": "stream",
     "text": [
      "Your card: 6\n",
      "Computer card: 5\n",
      "You win with 6\n"
     ]
    }
   ],
   "source": [
    "\n",
    "import random\n",
    "\n",
    "def deal_card():\n",
    "    cards = [11, 2, 3, 4, 5, 6, 7, 8, 9, 10, 10, 10, 10]\n",
    "    return random.choice(cards)\n",
    "\n",
    "continue_game = True\n",
    "\n",
    "\n",
    "player_cards = []\n",
    "computer_cards = []\n",
    "highest = 0\n",
    "\n",
    "\n",
    "player_card = deal_card()\n",
    "computer_card = deal_card()\n",
    "print(f\"Your card: {player_card}\")\n",
    "print(f\"Computer card: {computer_card}\")\n",
    "    \n",
    "if player_card > computer_card: \n",
    "    print(f\"You win with {player_card}\")\n",
    "else:\n",
    "    print(f\"You lose with {player_card}\")\n",
    "\n",
    "    "
   ]
  }
 ],
 "metadata": {
  "kernelspec": {
   "display_name": "Python 3",
   "language": "python",
   "name": "python3"
  },
  "language_info": {
   "codemirror_mode": {
    "name": "ipython",
    "version": 3
   },
   "file_extension": ".py",
   "mimetype": "text/x-python",
   "name": "python",
   "nbconvert_exporter": "python",
   "pygments_lexer": "ipython3",
   "version": "3.13.3"
  }
 },
 "nbformat": 4,
 "nbformat_minor": 5
}
