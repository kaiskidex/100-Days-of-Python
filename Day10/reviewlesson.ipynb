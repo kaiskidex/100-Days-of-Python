{
 "cells": [
  {
   "cell_type": "markdown",
   "id": "52d4568f",
   "metadata": {},
   "source": [
    "Topics Covered:\n",
    "- Functions with Outputs\n",
    "- Multiple Return Values\n",
    "- Docstrings\n",
    "\n",
    "This review exercise is divided into two parts:\n",
    "- Part 1: Write-the-code Exercises to practice logic + return values\n",
    "- Part 2: Code predictions where I read and think about what happens before running"
   ]
  },
  {
   "cell_type": "markdown",
   "id": "24f0e26f",
   "metadata": {},
   "source": [
    "1. Single return\n",
    "\n",
    "Problem: Write a function area_of_circle(radius) that returns the area of a circle.\n",
    "\n",
    "Inputs: radius (float or int)\n",
    "\n",
    "Outputs: area (float)\n",
    "\n",
    "Rule: area = π * r²"
   ]
  },
  {
   "cell_type": "code",
   "execution_count": 8,
   "id": "346f0aeb",
   "metadata": {},
   "outputs": [
    {
     "data": {
      "text/plain": [
       "6361.73"
      ]
     },
     "execution_count": 8,
     "metadata": {},
     "output_type": "execute_result"
    }
   ],
   "source": [
    "import math\n",
    "def area_of_circle(radius):\n",
    "    area = math.pi * (radius ** 2)\n",
    "\n",
    "    return round(area, 2)\n",
    "\n",
    "area_of_circle(45)"
   ]
  },
  {
   "cell_type": "markdown",
   "id": "ddcdf54c",
   "metadata": {},
   "source": [
    "2. Multiple return\n",
    "\n",
    "Problem: Write a function min_max(numbers) that takes a list of numbers and returns both the minimum and maximum in a tuple.\n",
    "\n",
    "Example:\n",
    "\n",
    "min_val, max_val = min_max([4, 9, 1, 6])\n",
    "print(min_val, max_val)   # should print: 1 9\n"
   ]
  },
  {
   "cell_type": "code",
   "execution_count": 18,
   "id": "f1b74ab1",
   "metadata": {},
   "outputs": [
    {
     "name": "stdout",
     "output_type": "stream",
     "text": [
      "1 9\n"
     ]
    }
   ],
   "source": [
    "\n",
    "def min_max(numbers):\n",
    "    min_val = min(numbers)\n",
    "    max_val = max(numbers)\n",
    "    return min_val, max_val\n",
    "\n",
    "\n",
    "min_val, max_val = min_max([4, 9, 1, 6])\n",
    "print(min_val, max_val)   \n"
   ]
  },
  {
   "cell_type": "markdown",
   "id": "63c615f0",
   "metadata": {},
   "source": [
    "3. With docstring\n",
    "\n",
    "Problem: Write a function is_even(num) with a docstring that:\n",
    "\n",
    "Explains what the function does,\n",
    "\n",
    "Lists its parameter(s),\n",
    "\n",
    "Describes the return value.\n",
    "\n",
    "Call it with a number and return True/False."
   ]
  },
  {
   "cell_type": "code",
   "execution_count": null,
   "id": "1d7b10db",
   "metadata": {},
   "outputs": [
    {
     "name": "stdout",
     "output_type": "stream",
     "text": [
      "True\n"
     ]
    },
    {
     "data": {
      "text/plain": [
       "'The function determines wether the number input is even by going through an if statement, in which checks if the\\nnumber is divisible by 2, and when it is, it returns True and if not, returns False'"
      ]
     },
     "execution_count": 10,
     "metadata": {},
     "output_type": "execute_result"
    }
   ],
   "source": [
    "def is_even(num):\n",
    "    if num % 2 == 0:\n",
    "        return True\n",
    "    else:\n",
    "        return False\n",
    "    \n",
    "print(is_even(98))\n",
    "\n",
    "'''The function determines wether the number input is even by going through an if statement, \n",
    "in which checks if the number is divisible by 2, and when it is, it returns True and if not, returns False'''"
   ]
  },
  {
   "cell_type": "markdown",
   "id": "05d4f3c0",
   "metadata": {},
   "source": [
    "4. Multiple return + processing\n",
    "\n",
    "Problem: Write a function student_summary(name, grades) that takes:\n",
    "\n",
    "A student’s name (string)\n",
    "\n",
    "A list of grades (list of ints)\n",
    "\n",
    "It should return 3 values:\n",
    "\n",
    "the student’s name,\n",
    "\n",
    "their average grade,\n",
    "\n",
    "their highest grade."
   ]
  },
  {
   "cell_type": "code",
   "execution_count": 14,
   "id": "02429bc4",
   "metadata": {},
   "outputs": [
    {
     "name": "stdout",
     "output_type": "stream",
     "text": [
      "Summary of Kai's grades: [90, 98, 100, 97] average: 96.25 highest grade: 100\n"
     ]
    }
   ],
   "source": [
    "def student_summary(name, grades):\n",
    "    average = sum(grades) / len(grades)\n",
    "    highest_grade = max(grades)\n",
    "    return f\"Summary of {name}'s grades: {grades} average: {average} highest grade: {highest_grade}\"\n",
    "\n",
    "print(student_summary(\"Kai\", grades = [90, 98, 100, 97]))\n",
    "\n"
   ]
  },
  {
   "cell_type": "markdown",
   "id": "78738091",
   "metadata": {},
   "source": [
    "🔮 Part 2: Code Prediction\n",
    "Q1:\n",
    "def mystery(a, b):\n",
    "    return a + b, a * b\n",
    "\n",
    "x, y = mystery(3, 4)\n",
    "print(x, y)\n",
    "\n",
    "\n",
    "👉 What will be printed?\n",
    "\n",
    "Answer: 7 12"
   ]
  },
  {
   "cell_type": "code",
   "execution_count": 15,
   "id": "c5ed37ce",
   "metadata": {},
   "outputs": [
    {
     "name": "stdout",
     "output_type": "stream",
     "text": [
      "7 12\n"
     ]
    }
   ],
   "source": [
    "def mystery(a, b):\n",
    "    return a + b, a * b\n",
    "\n",
    "x, y = mystery(3, 4)\n",
    "print(x, y)"
   ]
  },
  {
   "cell_type": "markdown",
   "id": "d84e37b4",
   "metadata": {},
   "source": [
    "Q2:\n",
    "\n",
    "def combine_strings(s1, s2=\"World\"):\n",
    "    return s1 + \" \" + s2\n",
    "\n",
    "print(combine_strings(\"Hello\"))\n",
    "print(combine_strings(\"Goodbye\", \"Everyone\"))\n",
    "\n",
    "\n",
    "👉 What’s the output for both calls?\n",
    "\n",
    "Answer: \n",
    "Hello World\n",
    "Goodbye Everyone"
   ]
  },
  {
   "cell_type": "code",
   "execution_count": 16,
   "id": "46f643e5",
   "metadata": {},
   "outputs": [
    {
     "name": "stdout",
     "output_type": "stream",
     "text": [
      "Hello World\n",
      "Goodbye Everyone\n"
     ]
    }
   ],
   "source": [
    "def combine_strings(s1, s2=\"World\"):\n",
    "    return s1 + \" \" + s2\n",
    "\n",
    "print(combine_strings(\"Hello\"))\n",
    "print(combine_strings(\"Goodbye\", \"Everyone\"))\n"
   ]
  },
  {
   "cell_type": "markdown",
   "id": "0fa4138b",
   "metadata": {},
   "source": [
    "Q3:\n",
    "def tricky(n):\n",
    "    return n, n**2, n % 2 == 0\n",
    "\n",
    "result = tricky(5)\n",
    "print(result[1], result[2])\n",
    "\n",
    "\n",
    "👉 What’s printed?\n",
    "\n",
    "Answer:\n",
    "25 False"
   ]
  },
  {
   "cell_type": "code",
   "execution_count": 17,
   "id": "1db170c9",
   "metadata": {},
   "outputs": [
    {
     "name": "stdout",
     "output_type": "stream",
     "text": [
      "25 False\n"
     ]
    }
   ],
   "source": [
    "def tricky(n):\n",
    "    return n, n**2, n % 2 == 0\n",
    "\n",
    "result = tricky(5)\n",
    "print(result[1], result[2])\n"
   ]
  }
 ],
 "metadata": {
  "kernelspec": {
   "display_name": "Python 3",
   "language": "python",
   "name": "python3"
  },
  "language_info": {
   "codemirror_mode": {
    "name": "ipython",
    "version": 3
   },
   "file_extension": ".py",
   "mimetype": "text/x-python",
   "name": "python",
   "nbconvert_exporter": "python",
   "pygments_lexer": "ipython3",
   "version": "3.13.3"
  }
 },
 "nbformat": 4,
 "nbformat_minor": 5
}
