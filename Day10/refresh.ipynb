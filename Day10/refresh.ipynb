{
 "cells": [
  {
   "cell_type": "markdown",
   "id": "e94b06c2",
   "metadata": {},
   "source": [
    "Training Pattern\n",
    "\n",
    "For every exercise:\n",
    "\n",
    "I’ll present a problem.\n",
    "\n",
    "You answer step by step using this framework:\n",
    "\n",
    "Goal: What’s the problem asking you to do?\n",
    "\n",
    "Inputs: What information is given / what you need to collect?\n",
    "\n",
    "Outputs: What should the solution produce?\n",
    "\n",
    "Rules / Conditions: Any constraints or logic that must be followed?\n",
    "\n",
    "Steps / Algorithm: Break it into logical chunks, in plain language first.\n",
    "\n",
    "I’ll guide and correct your reasoning if something is missing or unclear. (ChatGPT)\n",
    "\n",
    "Once your steps are solid, we can translate it into code together."
   ]
  },
  {
   "cell_type": "markdown",
   "id": "91c51749",
   "metadata": {},
   "source": [
    "⚡ Example Warm-up (Non-coding first)\n",
    "\n",
    "Problem: You have a list of exam scores: [90, 72, 65, 88, 100]. You want to find the highest score.\n",
    "\n",
    "Instead of coding immediately, answer in Goal / Inputs / Outputs / Rules / Steps.\n",
    "\n",
    "Goal: The problem wants me to find the highest scores in a list of exam scores, given a list\n",
    "\n",
    "Inputs: inputs are given in a list \n",
    "\n",
    "Outputs: find the highest scores\n",
    "\n",
    "Rules / Conditions: we are given only a list, so we iterate through it. \n",
    "\n",
    "Steps / Algorithm: iterate first on the list, compare each iteration from the previous, once you got on the last element, return the highest score"
   ]
  },
  {
   "cell_type": "markdown",
   "id": "3310f243",
   "metadata": {},
   "source": []
  },
  {
   "cell_type": "markdown",
   "id": "670a15df",
   "metadata": {},
   "source": [
    "\n",
    "---\n",
    "\n",
    "### Feedback on Each Section\n",
    "\n",
    "**Goal:** ✅ Good. Clear and concise.\n",
    "\n",
    "**Inputs:** ✅ You identified the input type correctly (a list). You could also note: “the list contains numerical scores.”\n",
    "\n",
    "**Outputs:** ✅ Good. Maybe clarify: “The single highest score from the list.”\n",
    "\n",
    "**Rules / Conditions:** ⚠️ This can be expanded. Right now it’s just “iterate through the list,” but rules should capture:\n",
    "\n",
    "* There is at least one score in the list.\n",
    "* Each score is a number.\n",
    "* Compare scores pairwise to determine which is highest.\n",
    "* No modification of the original list is allowed.\n",
    "\n",
    "**Steps / Algorithm:** ✅ Very close. You can make it more precise:\n",
    "\n",
    "1. Assume the first score is the highest so far.\n",
    "2. Iterate through the rest of the scores in the list.\n",
    "3. For each score, if it is greater than the current highest, update the highest.\n",
    "4. After checking all scores, return the highest.\n",
    "\n",
    "---\n",
    "\n",
    "💡 Notice how by **refining rules**, your steps become easier to write and less ambiguous.\n",
    "\n",
    "---\n",
    "\n"
   ]
  },
  {
   "cell_type": "code",
   "execution_count": 1,
   "id": "6a4d0331",
   "metadata": {},
   "outputs": [
    {
     "name": "stdout",
     "output_type": "stream",
     "text": [
      "The highest score is: 100\n"
     ]
    }
   ],
   "source": [
    "# assume the first score is the highest so far\n",
    "\n",
    "scores = [90, 72, 65, 88, 100]\n",
    "\n",
    "highest = scores[0]\n",
    "\n",
    "# Iterate through the rest of the scores in the list.\n",
    "for i in scores[1:]:\n",
    "    if i > highest:\n",
    "        highest = i\n",
    "\n",
    "#return or print the highest score\n",
    "print(\"The highest score is:\", highest)\n"
   ]
  },
  {
   "cell_type": "markdown",
   "id": "abb0d735",
   "metadata": {},
   "source": [
    "\n",
    "---\n",
    "\n",
    "### Problem 2 (Slightly harder)\n",
    "\n",
    "You have the same list of exam scores:\n",
    "\n",
    "```python\n",
    "scores = [90, 72, 65, 88, 100]\n",
    "```\n",
    "\n",
    "**Task:** Find the highest score **and its position in the list** (index).\n",
    "\n",
    "Instead of coding immediately, let’s follow our structured framework. Answer **Goal / Inputs / Outputs / Rules / Steps** first.\n",
    "\n",
    "Here’s a hint to guide you:\n",
    "\n",
    "* **Goal:** What exactly do you want to find?\n",
    "* **Inputs:** What is given?\n",
    "* **Outputs:** What should the solution produce? (Remember, now it’s score + index)\n",
    "* **Rules / Conditions:** Think carefully — what must your algorithm respect? For example: how to handle multiple highest scores?\n",
    "* **Steps / Algorithm:** Break it into logical chunks in plain English.\n",
    "\n",
    "\n"
   ]
  },
  {
   "cell_type": "markdown",
   "id": "62e147f5",
   "metadata": {},
   "source": [
    "#Goal: find the highest score and the index\n",
    "\n",
    "Inputs: scores \n",
    "\n",
    "scores = [90, 72, 65, 88, 100]\n",
    "\n",
    "outputs: the score with index\n",
    "\n",
    "rules/ conditions:\n",
    "we only have a list in which we need to iterate through\n",
    "\n",
    "steps/algorithm\n",
    "iterate through list, compare each element, get index\n",
    "determine the highest\n",
    "print out"
   ]
  },
  {
   "cell_type": "markdown",
   "id": "63fec997",
   "metadata": {},
   "source": [
    "\n",
    "---\n",
    "\n",
    "### ✅ Refined Version\n",
    "\n",
    "**Goal:**\n",
    "Find the highest score and its index in the list.\n",
    "\n",
    "**Inputs:**\n",
    "A list of scores, e.g. `[90, 72, 65, 88, 100]`.\n",
    "\n",
    "**Outputs:**\n",
    "The highest score and the index (position) of that score. Example output:\n",
    "\n",
    "```\n",
    "Highest score is 100 at index 4\n",
    "```\n",
    "\n",
    "**Rules / Conditions:**\n",
    "\n",
    "* The list contains at least one score.\n",
    "* Each score is a number.\n",
    "* If multiple scores are tied for highest, return the first one.\n",
    "* Indexing starts at 0 (Python’s default).\n",
    "\n",
    "**Steps / Algorithm:**\n",
    "\n",
    "1. Assume the first element is the highest, and store its index as 0.\n",
    "2. Iterate through the list starting from index 1.\n",
    "3. For each element, compare it with the current highest:\n",
    "\n",
    "   * If it’s greater, update the highest value and update the index.\n",
    "4. After the loop ends, output both the highest score and its index.\n",
    "\n",
    "---\n"
   ]
  },
  {
   "cell_type": "code",
   "execution_count": null,
   "id": "c8fc5c16",
   "metadata": {},
   "outputs": [
    {
     "name": "stdout",
     "output_type": "stream",
     "text": [
      "The highest score is 100 at index 4\n"
     ]
    }
   ],
   "source": [
    "\n",
    "scores = [90, 72, 65, 88, 100]\n",
    "\n",
    "highest = scores[0]\n",
    "highest_index = 0\n",
    "\n",
    "for idx, score in enumerate(scores):\n",
    "    if score > highest:\n",
    "        highest = score\n",
    "        highest_index = idx\n",
    "\n",
    "print(f\"The highest score is {highest} at index {highest_index}\")\n"
   ]
  },
  {
   "cell_type": "markdown",
   "id": "a46db3ff",
   "metadata": {},
   "source": [
    "🔹 Mini-Exercise 1: Find the smallest number\n",
    "\n",
    "You have a list:\n",
    "\n",
    "numbers = [42, 17, 56, 3, 89, 3]\n",
    "\n",
    "\n",
    "Goal: Find the smallest number.\n",
    "\n",
    "Question for you:\n",
    "\n",
    "What should you store? Store smallest number\n",
    "\n",
    "When do you update it? when the iteration found the smallest after comparing each element in the iteration"
   ]
  },
  {
   "cell_type": "code",
   "execution_count": 3,
   "id": "deb401e0",
   "metadata": {},
   "outputs": [
    {
     "name": "stdout",
     "output_type": "stream",
     "text": [
      "3\n"
     ]
    }
   ],
   "source": [
    "\n",
    "# inputs:\n",
    "numbers = [42, 17, 56, 3, 89, 3]\n",
    "\n",
    "smallest_number = numbers[0]\n",
    "\n",
    "for i in numbers:\n",
    "    if i < smallest_number:\n",
    "        smallest_number = i\n",
    "\n",
    "print(smallest_number)\n"
   ]
  },
  {
   "cell_type": "markdown",
   "id": "83fe30ce",
   "metadata": {},
   "source": [
    "🔹 Mini-Exercise 2: Count how many times the highest appears\n",
    "\n",
    "You have:\n",
    "\n",
    "scores = [90, 100, 65, 100, 72, 100]\n",
    "\n",
    "Goal: Find the highest score and how many times it appears.\n",
    "\n",
    "Question for you:\n",
    "\n",
    "What should you store? (hint: maybe more than one thing)\n",
    "\n",
    "When do you update each one?"
   ]
  },
  {
   "cell_type": "code",
   "execution_count": 5,
   "id": "0e8f711d",
   "metadata": {},
   "outputs": [
    {
     "name": "stdout",
     "output_type": "stream",
     "text": [
      "[100, 100, 100]\n",
      "High Score frequency: 3\n"
     ]
    }
   ],
   "source": [
    "scores = [90, 100, 65, 100, 72, 100]\n",
    "\n",
    "high_score = scores[0]\n",
    "highest_scores = []\n",
    "\n",
    "for i in scores:\n",
    "    if i > high_score:\n",
    "        highest_scores.append(i)\n",
    "print(highest_scores)\n",
    "print(f\"High Score frequency: {len(highest_scores)}\")"
   ]
  },
  {
   "cell_type": "markdown",
   "id": "a787013c",
   "metadata": {},
   "source": [
    "🔹 Mini-Exercise 3: Track the longest word\n",
    "\n",
    "You have:\n",
    "\n",
    "words = [\"dog\", \"elephant\", \"cat\", \"hippopotamus\", \"ant\"]\n",
    "\n",
    "\n",
    "Goal: Find the longest word and its length.\n",
    "\n",
    "Question for you:\n",
    "\n",
    "What do you store?\n",
    "\n",
    "When do you update it?"
   ]
  },
  {
   "cell_type": "code",
   "execution_count": 1,
   "id": "d627ca77",
   "metadata": {},
   "outputs": [
    {
     "name": "stdout",
     "output_type": "stream",
     "text": [
      "hippopotamus\n"
     ]
    }
   ],
   "source": [
    "words = [\"dog\", \"elephant\", \"cat\", \"hippopotamus\", \"ant\"]\n",
    "\n",
    "\n",
    "longest_word = words[0]\n",
    "\n",
    "for word in words:\n",
    "    if len(word) > len(longest_word):\n",
    "        longest_word = word\n",
    "print(longest_word)"
   ]
  },
  {
   "cell_type": "markdown",
   "id": "d1d09baa",
   "metadata": {},
   "source": [
    "Simple Student Gradebook\n",
    "\n",
    "You’re building a gradebook system. The program should:\n",
    "\n",
    "Allow a teacher to enter student names and their exam scores.\n",
    "\n",
    "Store the data.\n",
    "\n",
    "After all entries are done, the program outputs:\n",
    "\n",
    "The class average.\n",
    "\n",
    "The student with the highest score.\n",
    "\n",
    "The student with the lowest score."
   ]
  },
  {
   "cell_type": "code",
   "execution_count": 8,
   "id": "a2d80d20",
   "metadata": {},
   "outputs": [
    {
     "name": "stdout",
     "output_type": "stream",
     "text": [
      "Student List: {'kai': 99, 'caleb': 100, 'gideon': 95}\n",
      "Class Average: 98.0\n",
      "Highest Student and Grade: caleb with 100 grade\n",
      "Lowest Student and Grade: gideon with 95 grade\n"
     ]
    }
   ],
   "source": [
    "student_list = {}\n",
    "\n",
    "\n",
    "def student_name():\n",
    "    name = input(\"Enter student name: \")\n",
    "    grade = int(input(\"Enter student grade: \"))\n",
    "    return name, grade\n",
    "\n",
    "def average():\n",
    "    return sum(student_list.values()) / len(student_list)\n",
    "\n",
    "def highest_grade():\n",
    "    highest_grade = -1\n",
    "    highest_student = \"\"\n",
    "\n",
    "    for name, grade in student_list.items():\n",
    "        if grade > highest_grade:\n",
    "            highest_grade = grade\n",
    "            highest_student = name\n",
    "\n",
    "    return highest_student, highest_grade\n",
    "\n",
    "# using one liner min()\n",
    "def lowest_grade():\n",
    "    lowest_student = min(student_list, key=student_list.get)\n",
    "    return lowest_student, student_list[lowest_student]\n",
    "\n",
    "# main loop\n",
    "while True:\n",
    "    name, grade = student_name()\n",
    "    student_list[name] = grade\n",
    "\n",
    "    # validation loop\n",
    "    while True:\n",
    "        new_student = input(\"Add new student? (Y/N): \").lower()\n",
    "        if new_student in ('y', 'n'):\n",
    "            break\n",
    "        else:\n",
    "            print(\"Invalid input. Please enter Y or N only.\")\n",
    "\n",
    "    if new_student == 'n':\n",
    "        break\n",
    "\n",
    "# after loop ends\n",
    "print(\"Student List:\", student_list)\n",
    "print(\"Class Average:\", average())\n",
    "highest_student, highest_grade = highest_grade()\n",
    "print(f\"Highest Student and Grade: {highest_student} with {highest_grade} grade\")\n",
    "lowest_student, lowest_grade = lowest_grade()\n",
    "print(f\"Lowest Student and Grade: {lowest_student} with {lowest_grade} grade\")\n"
   ]
  }
 ],
 "metadata": {
  "kernelspec": {
   "display_name": "Python 3",
   "language": "python",
   "name": "python3"
  },
  "language_info": {
   "codemirror_mode": {
    "name": "ipython",
    "version": 3
   },
   "file_extension": ".py",
   "mimetype": "text/x-python",
   "name": "python",
   "nbconvert_exporter": "python",
   "pygments_lexer": "ipython3",
   "version": "3.13.3"
  }
 },
 "nbformat": 4,
 "nbformat_minor": 5
}
