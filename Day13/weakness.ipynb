{
 "cells": [
  {
   "cell_type": "markdown",
   "id": "11ba4503",
   "metadata": {},
   "source": [
    "Prompt: with the weaknesses I demonstrated with my code and what I need to improve, give me a set of exercises I need to answer to work on that\n",
    "\n",
    "ChatGPT Response:\n",
    "\n",
    "Got it ✅\n",
    "I’ve been watching how you code and what you ask. Based on your Blackjack & Guessing Game, here are the **weaknesses I see**:\n",
    "\n",
    "1. **Flow & structure** → you sometimes repeat code or mix responsibilities (game loop vs. function logic).\n",
    "2. **Condition logic** → you overcomplicate `if/else` (e.g., when simple checks or loops would work).\n",
    "3. **Data handling** → forgetting when to update lists/dictionaries (`hand.remove(11)` vs `hand[i]` confusion).\n",
    "4. **Reusability** → writing code that works once, but not scalable (hit only once instead of looping).\n",
    "5. **Error handling / input validation** → sometimes missing robust handling (`y/n` inputs, numbers only).\n",
    "\n",
    "---\n",
    "\n",
    "### 🏋️‍♂️ Training Exercises\n",
    "\n",
    "Each exercise targets one of these weaknesses. Try them in **Goal / Inputs / Outputs / Rules / Steps → Code → Test** format like we practiced.\n",
    "\n"
   ]
  },
  {
   "cell_type": "markdown",
   "id": "2f878de3",
   "metadata": {},
   "source": [
    "#### **1. Refactor & Structure**\n",
    "\n",
    "Write a function `menu()` that:\n",
    "\n",
    "* Displays `[1] Play` `[2] Settings` `[3] Exit`\n",
    "* Keeps asking until the user chooses a valid option.\n",
    "* Returns the choice.\n",
    "\n",
    "👉 This practices separating **input validation** from main game logic."
   ]
  },
  {
   "cell_type": "code",
   "execution_count": 1,
   "id": "e6836ae6",
   "metadata": {},
   "outputs": [
    {
     "name": "stdout",
     "output_type": "stream",
     "text": [
      "\n",
      "                [1] Play\n",
      "                [2] Settings\n",
      "                [3] Exit\n",
      "                \n",
      "You chose:  1\n"
     ]
    }
   ],
   "source": [
    "def menu():\n",
    "    while True:\n",
    "        print('''\n",
    "                [1] Play\n",
    "                [2] Settings\n",
    "                [3] Exit\n",
    "                ''')\n",
    "        try:\n",
    "            choice = int(input('Enter your choice: '))\n",
    "            if choice in (1,2,3):\n",
    "                return choice\n",
    "            else:\n",
    "                print('Invalid number. Please enter 1,2,3')                \n",
    "        except ValueError:\n",
    "            print('Invalid input. Please enter a number.')\n",
    "        \n",
    "user_selection = menu()\n",
    "print('You chose: ', user_selection)\n",
    "\n",
    "\n"
   ]
  },
  {
   "cell_type": "markdown",
   "id": "a90b1581",
   "metadata": {},
   "source": [
    "#### **2. Condition Simplification**\n",
    "\n",
    "Write a function `grade_category(score)`:\n",
    "\n",
    "* Input: integer (0–100)\n",
    "* Output: `\"Fail\" (<60)`, `\"Pass\" (60–79)`, `\"Merit\" (80–89)`, `\"Distinction\" (90–100)`\n",
    "* Use **clear, minimal if/elif logic**.\n",
    "\n",
    "👉 This trains writing **clean branching**."
   ]
  },
  {
   "cell_type": "code",
   "execution_count": null,
   "id": "02b7e91e",
   "metadata": {},
   "outputs": [
    {
     "name": "stdout",
     "output_type": "stream",
     "text": [
      "Distinction\n"
     ]
    }
   ],
   "source": [
    "def grade_category(num):\n",
    "    if num < 0 or num > 100:\n",
    "        return 'Enter valid integer'\n",
    "    elif num >= 90:\n",
    "        return 'Distinction'\n",
    "    elif num >= 80:\n",
    "        return 'Merit'\n",
    "    elif num >= 60:\n",
    "        return 'Pass'\n",
    "    else:\n",
    "        return 'Fail'\n",
    "    \n",
    "print(grade_category(100))"
   ]
  },
  {
   "cell_type": "markdown",
   "id": "8e0913de",
   "metadata": {},
   "source": [
    "#### **3. List & Dictionary Updates**\n",
    "\n",
    "Write a function `update_scores(scores, name, new_score)`:\n",
    "\n",
    "* `scores` is a dict `{name: score}`\n",
    "* If `name` exists → update score\n",
    "* If not → add new entry\n",
    "* Return updated dict.\n",
    "\n",
    "👉 Trains **storing & updating values** correctly."
   ]
  },
  {
   "cell_type": "code",
   "execution_count": 7,
   "id": "8ccff2b0",
   "metadata": {},
   "outputs": [
    {
     "name": "stdout",
     "output_type": "stream",
     "text": [
      "{'Alice': 90, 'Bob': 90}\n",
      "{'Alice': 90, 'Bob': 90, 'Charlie': 93}\n"
     ]
    }
   ],
   "source": [
    "def update_scores(scores, name, new_score):\n",
    "    scores[name] = new_score\n",
    "    return scores\n",
    "\n",
    "students = {'Alice': 85, 'Bob': 90 }\n",
    "\n",
    "print(update_scores(students, 'Alice', 90))\n",
    "print(update_scores(students, 'Charlie', 93))"
   ]
  },
  {
   "cell_type": "markdown",
   "id": "e10bdfc2",
   "metadata": {},
   "source": [
    "#### **4. Loops for Reusability**\n",
    "\n",
    "Write a function `roll_until(limit)`:\n",
    "\n",
    "* Keep rolling a die (1–6) until the total >= `limit`\n",
    "* Return the total and how many rolls it took.\n",
    "\n",
    "👉 Forces you to use a **loop instead of repeating code**.\n"
   ]
  },
  {
   "cell_type": "code",
   "execution_count": 8,
   "id": "f7c583d6",
   "metadata": {},
   "outputs": [
    {
     "name": "stdout",
     "output_type": "stream",
     "text": [
      "(22, 6)\n"
     ]
    }
   ],
   "source": [
    "import random\n",
    "def roll_until(limit):\n",
    "    total = 0\n",
    "    rolls = 0\n",
    "\n",
    "    while total < limit:\n",
    "        roll = random.randint(1,6)\n",
    "        total += roll\n",
    "        rolls += 1\n",
    "\n",
    "    return total, rolls\n",
    "\n",
    "print(roll_until(20))\n",
    "\n"
   ]
  },
  {
   "cell_type": "markdown",
   "id": "8d0d87f7",
   "metadata": {},
   "source": [
    "#### **5. Input Validation**\n",
    "\n",
    "Write a function `get_number()`:\n",
    "\n",
    "* Keep asking user for a number until they enter a valid integer.\n",
    "* Return the integer.\n",
    "\n",
    "👉 This builds your **error handling muscle**."
   ]
  },
  {
   "cell_type": "code",
   "execution_count": 12,
   "id": "f70c9fee",
   "metadata": {},
   "outputs": [
    {
     "name": "stdout",
     "output_type": "stream",
     "text": [
      "again.\n"
     ]
    },
    {
     "data": {
      "text/plain": [
       "'You entered: 90'"
      ]
     },
     "execution_count": 12,
     "metadata": {},
     "output_type": "execute_result"
    }
   ],
   "source": [
    "def get_number():\n",
    "    while True:\n",
    "        try:\n",
    "            num = int(input(\"Enter a number: \"))\n",
    "            break\n",
    "        except ValueError:\n",
    "            print(\"again.\")\n",
    "    return f\"You entered: {num}\"\n",
    "        \n",
    "\n",
    "get_number()"
   ]
  },
  {
   "cell_type": "markdown",
   "id": "81685e30",
   "metadata": {},
   "source": [
    "#### **6. Mini-Integration**\n",
    "\n",
    "Combine 1–5 into a small game:\n",
    "\n",
    "* Menu with `[Play]` `[Exit]`.\n",
    "* Play = roll dice until >= 20.\n",
    "* Store player name & score in a dict.\n",
    "* Show highest scorer at the end.\n",
    "\n",
    "👉 This makes you apply everything at once: structured flow, clean logic, storage, loops, and validation."
   ]
  },
  {
   "cell_type": "code",
   "execution_count": 1,
   "id": "7ce8d0ad",
   "metadata": {},
   "outputs": [
    {
     "name": "stdout",
     "output_type": "stream",
     "text": [
      "\n",
      "=== Dice Game Menu ===\n",
      "[1] Play\n",
      "[2] Exit\n",
      "❌ Invalid choice, try again.\n",
      "\n",
      "=== Dice Game Menu ===\n",
      "[1] Play\n",
      "[2] Exit\n",
      "❌ Invalid choice, try again.\n",
      "\n",
      "=== Dice Game Menu ===\n",
      "[1] Play\n",
      "[2] Exit\n",
      "\n",
      "🎲 Kai, let's play! You need at least 20 to win.\n",
      "\n",
      "Roll 1: You rolled a 2, total = 2\n",
      "Roll 2: You rolled a 6, total = 8\n",
      "Roll 3: You rolled a 6, total = 14\n",
      "Roll 4: You rolled a 6, total = 20\n",
      "\n",
      "✅ Kai, you finished with 20 in 4 rolls.\n",
      "\n",
      "=== Dice Game Menu ===\n",
      "[1] Play\n",
      "[2] Exit\n",
      "\n",
      "=== Game Over ===\n",
      "🏆 Highest scorer: Kai with 20\n"
     ]
    }
   ],
   "source": [
    "import random\n",
    "\n",
    "# 1. Menu function with input validation\n",
    "def menu():\n",
    "    while True:\n",
    "        print(\"\\n=== Dice Game Menu ===\")\n",
    "        print(\"[1] Play\")\n",
    "        print(\"[2] Exit\")\n",
    "        choice = input(\"Choose an option: \")\n",
    "        if choice in [\"1\", \"2\"]:\n",
    "            return choice\n",
    "        else:\n",
    "            print(\"❌ Invalid choice, try again.\")\n",
    "\n",
    "# 2. Roll dice until >= 20\n",
    "def roll_until(limit=20):\n",
    "    total = 0\n",
    "    rolls = 0\n",
    "    while total < limit:\n",
    "        roll = random.randint(1, 6)\n",
    "        total += roll\n",
    "        rolls += 1\n",
    "        print(f\"Roll {rolls}: You rolled a {roll}, total = {total}\")\n",
    "    return total, rolls\n",
    "\n",
    "# 3. Update scores in dictionary\n",
    "def update_scores(scores, name, new_score):\n",
    "    scores[name] = new_score\n",
    "    return scores\n",
    "\n",
    "# 4. Find the highest scorer\n",
    "def highest_scorer(scores):\n",
    "    if not scores:  # if dictionary is empty\n",
    "        return None, None\n",
    "    # max() with key argument finds the player with the max score\n",
    "    best_player = max(scores, key=scores.get)\n",
    "    return best_player, scores[best_player]\n",
    "\n",
    "# 5. Main game loop\n",
    "def main():\n",
    "    scores = {}  # empty dict for storing players and scores\n",
    "    \n",
    "    while True:\n",
    "        choice = menu()\n",
    "        if choice == \"1\":  # Play\n",
    "            name = input(\"Enter your name: \").strip().capitalize()\n",
    "            print(f\"\\n🎲 {name}, let's play! You need at least 20 to win.\\n\")\n",
    "            total, rolls = roll_until(20)\n",
    "            print(f\"\\n✅ {name}, you finished with {total} in {rolls} rolls.\")\n",
    "            update_scores(scores, name, total)\n",
    "        elif choice == \"2\":  # Exit\n",
    "            print(\"\\n=== Game Over ===\")\n",
    "            best_player, best_score = highest_scorer(scores)\n",
    "            if best_player:\n",
    "                print(f\"🏆 Highest scorer: {best_player} with {best_score}\")\n",
    "            else:\n",
    "                print(\"No games were played.\")\n",
    "            break\n",
    "\n",
    "# Run the game\n",
    "main()\n",
    "\n",
    "        "
   ]
  }
 ],
 "metadata": {
  "kernelspec": {
   "display_name": "Python 3",
   "language": "python",
   "name": "python3"
  },
  "language_info": {
   "codemirror_mode": {
    "name": "ipython",
    "version": 3
   },
   "file_extension": ".py",
   "mimetype": "text/x-python",
   "name": "python",
   "nbconvert_exporter": "python",
   "pygments_lexer": "ipython3",
   "version": "3.13.3"
  }
 },
 "nbformat": 4,
 "nbformat_minor": 5
}
