{
 "cells": [
  {
   "cell_type": "markdown",
   "id": "b1a05827",
   "metadata": {},
   "source": [
    "Today's Topic: Debugging\n",
    "\n",
    "- Let's code several debugging challenges!"
   ]
  },
  {
   "cell_type": "markdown",
   "id": "806626fc",
   "metadata": {},
   "source": [
    "🐞 Debugging Challenge 1: Off-by-one error\n",
    "numbers = [1, 2, 3, 4, 5]\n",
    "for i in range(len(numbers)):\n",
    "    print(numbers[i+1])\n",
    "\n",
    "\n",
    "❓ What goes wrong? How do you fix it?"
   ]
  },
  {
   "cell_type": "code",
   "execution_count": 4,
   "id": "a7970e66",
   "metadata": {},
   "outputs": [
    {
     "name": "stdout",
     "output_type": "stream",
     "text": [
      "1\n",
      "2\n",
      "3\n",
      "4\n",
      "5\n"
     ]
    }
   ],
   "source": [
    "numbers = [1, 2, 3, 4, 5]\n",
    "for i in range(len(numbers)):\n",
    "    print(numbers[i])"
   ]
  },
  {
   "cell_type": "markdown",
   "id": "8c44d6ba",
   "metadata": {},
   "source": [
    "🐞 Debugging Challenge 2: Wrong condition\n",
    "def is_even(num):\n",
    "    if num % 2 = 0:\n",
    "        return True\n",
    "    else:\n",
    "        return False\n",
    "\n",
    "print(is_even(10))\n",
    "\n",
    "\n",
    "❓ Why does this throw an error? What should it be?"
   ]
  },
  {
   "cell_type": "code",
   "execution_count": 5,
   "id": "4e5c660a",
   "metadata": {},
   "outputs": [
    {
     "name": "stdout",
     "output_type": "stream",
     "text": [
      "True\n"
     ]
    }
   ],
   "source": [
    "def is_even(num):\n",
    "    if num % 2 == 0:\n",
    "        return True\n",
    "    else:\n",
    "        return False\n",
    "\n",
    "print(is_even(10))\n"
   ]
  },
  {
   "cell_type": "markdown",
   "id": "8c3a3b33",
   "metadata": {},
   "source": [
    "🐞 Debugging Challenge 3: Infinite loop\n",
    "count = 5\n",
    "while count > 0:\n",
    "    print(\"Counting down:\", count)\n",
    "\n",
    "\n",
    "❓ Why does this never stop? How would you fix it so it counts down properly?"
   ]
  },
  {
   "cell_type": "code",
   "execution_count": 17,
   "id": "a7534364",
   "metadata": {},
   "outputs": [
    {
     "name": "stdout",
     "output_type": "stream",
     "text": [
      "Counting down:  5\n",
      "Counting down:  4\n",
      "Counting down:  3\n",
      "Counting down:  2\n",
      "Counting down:  1\n"
     ]
    }
   ],
   "source": [
    "count = 5\n",
    "while count > 0:\n",
    "    print(\"Counting down: \", count)\n",
    "    count -= 1\n"
   ]
  },
  {
   "cell_type": "markdown",
   "id": "bd9764d5",
   "metadata": {},
   "source": [
    "Debugging Challenge 4: Wrong data type\n",
    "student_grades = {\"Alice\": 90, \"Bob\": 85}\n",
    "average = sum(student_grades) / len(student_grades)\n",
    "print(\"Average:\", average)\n",
    "\n",
    "\n",
    "❓ Why does this crash? What’s the correct way?"
   ]
  },
  {
   "cell_type": "code",
   "execution_count": 24,
   "id": "d934684d",
   "metadata": {},
   "outputs": [
    {
     "name": "stdout",
     "output_type": "stream",
     "text": [
      "Average: 87.5\n"
     ]
    }
   ],
   "source": [
    "student_grades = {\"Alice\": 90, \"Bob\": 85}\n",
    "average = sum(student_grades.values()) / len(student_grades)\n",
    "\n",
    "# sum(student_grades[) / len(student_grades[\"student\"])\n",
    "print(\"Average:\", average)\n",
    "\n",
    "\n"
   ]
  },
  {
   "cell_type": "markdown",
   "id": "6498d0b7",
   "metadata": {},
   "source": [
    "🐞 Debugging Challenge 5: Hidden logic bug\n",
    "def find_max(numbers):\n",
    "    max_num = numbers\n",
    "    for num in numbers:\n",
    "        if num > max_num:\n",
    "            max_num = num\n",
    "    return max_num\n",
    "\n",
    "print(find_max([-5, -9, -3]))\n",
    "\n",
    "\n",
    "❓ Why does this return the wrong result? How do you fix it?"
   ]
  },
  {
   "cell_type": "code",
   "execution_count": 33,
   "id": "bf1680dd",
   "metadata": {},
   "outputs": [
    {
     "name": "stdout",
     "output_type": "stream",
     "text": [
      "-3\n"
     ]
    }
   ],
   "source": [
    "# def find_max(numbers):\n",
    "#     max_value = max(numbers)        \n",
    "#     return max_value\n",
    "\n",
    "# print(find_max([-5, -9, -3]))\n",
    "\n",
    "\n",
    "def find_max(numbers):\n",
    "    max_num = numbers[0]\n",
    "    for num in numbers:\n",
    "        if num > max_num:\n",
    "            max_num = num\n",
    "    return max_num\n",
    "\n",
    "print(find_max([-5, -9, -3]))\n",
    "\n"
   ]
  },
  {
   "cell_type": "markdown",
   "id": "82fbdea8",
   "metadata": {},
   "source": [
    "Off-by-One Error\n",
    "def sum_to_n(n):\n",
    "    total = 0\n",
    "    for i in range(1, n):\n",
    "        total += i\n",
    "    return total\n",
    "\n",
    "print(sum_to_n(5))  # Expecting 15"
   ]
  },
  {
   "cell_type": "code",
   "execution_count": 36,
   "id": "7a186737",
   "metadata": {},
   "outputs": [
    {
     "name": "stdout",
     "output_type": "stream",
     "text": [
      "15\n"
     ]
    }
   ],
   "source": [
    "# def sum_to_n(n):\n",
    "#     total = 0\n",
    "#     for i in range(1, n+1):\n",
    "#         total += i\n",
    "#     return total\n",
    "\n",
    "# print(sum_to_n(5))  # Expecting 15\n",
    "\n",
    "# using list comprehension\n",
    "def sum_to_n(n):\n",
    "    return sum([i for i in range(1, n+1)])\n",
    "\n",
    "print(sum_to_n(5))\n"
   ]
  },
  {
   "cell_type": "markdown",
   "id": "5dbc6f8c",
   "metadata": {},
   "source": [
    "Wrong Indentation\n",
    "def factorial(n):\n",
    "    result = 1\n",
    "    for i in range(1, n+1):\n",
    "    result *= i\n",
    "    return result\n",
    "\n",
    "print(factorial(5))  # Expecting 120"
   ]
  },
  {
   "cell_type": "code",
   "execution_count": 37,
   "id": "3742e044",
   "metadata": {},
   "outputs": [
    {
     "name": "stdout",
     "output_type": "stream",
     "text": [
      "120\n"
     ]
    }
   ],
   "source": [
    "def factorial(n):\n",
    "    result = 1\n",
    "    for i in range(1, n+1):\n",
    "        result *= i\n",
    "    return result\n",
    "\n",
    "print(factorial(5))  # Expecting 120\n"
   ]
  },
  {
   "cell_type": "markdown",
   "id": "0355ad1c",
   "metadata": {},
   "source": [
    "Mutable Default Argument\n",
    "def append_number(num, numbers=[]):\n",
    "    numbers.append(num)\n",
    "    return numbers\n",
    "\n",
    "print(append_number(1))  # [1]\n",
    "print(append_number(2))  # Expecting [2], but what happens?"
   ]
  },
  {
   "cell_type": "code",
   "execution_count": 39,
   "id": "340eaae1",
   "metadata": {},
   "outputs": [
    {
     "name": "stdout",
     "output_type": "stream",
     "text": [
      "[1]\n",
      "[2]\n"
     ]
    }
   ],
   "source": [
    "def append_number(num, numbers=None):\n",
    "    if numbers is None:\n",
    "        numbers = []\n",
    "    numbers.append(num)\n",
    "    return numbers\n",
    "\n",
    "print(append_number(1))  # [1]\n",
    "print(append_number(2))  # Expecting [2], but what happens?\n"
   ]
  },
  {
   "cell_type": "markdown",
   "id": "f7db0c52",
   "metadata": {},
   "source": [
    "Logical Error\n",
    "def is_even(num):\n",
    "    if num % 2 == 1:\n",
    "        return True\n",
    "    else:\n",
    "        return False\n",
    "\n",
    "print(is_even(4))  # Expecting True"
   ]
  },
  {
   "cell_type": "code",
   "execution_count": 41,
   "id": "3529ebe6",
   "metadata": {},
   "outputs": [
    {
     "name": "stdout",
     "output_type": "stream",
     "text": [
      "True\n"
     ]
    }
   ],
   "source": [
    "def is_even(num):\n",
    "    if num % 2 == 0:\n",
    "        return True\n",
    "    else:\n",
    "        return False\n",
    "\n",
    "print(is_even(4))  # Expecting True\n",
    "\n"
   ]
  },
  {
   "cell_type": "markdown",
   "id": "fd65c958",
   "metadata": {},
   "source": [
    "Hidden Type Error\n",
    "def multiply(a, b):\n",
    "    return a * b\n",
    "\n",
    "print(multiply(\"2\", \"3\"))  # Expecting 6"
   ]
  },
  {
   "cell_type": "code",
   "execution_count": 43,
   "id": "7889852d",
   "metadata": {},
   "outputs": [
    {
     "name": "stdout",
     "output_type": "stream",
     "text": [
      "6\n"
     ]
    }
   ],
   "source": [
    "def multiply(a, b):\n",
    "    return a * b\n",
    "\n",
    "print(multiply(2, 3))  # Expecting 6\n"
   ]
  },
  {
   "cell_type": "markdown",
   "id": "0191df90",
   "metadata": {},
   "source": [
    "Dictionary Tracker\n",
    "def log_message(msg, log={}):\n",
    "    log[len(log) + 1] = msg\n",
    "    return log\n",
    "\n",
    "print(log_message(\"Start\"))\n",
    "print(log_message(\"Running\"))\n",
    "print(log_message(\"Error\"))\n"
   ]
  },
  {
   "cell_type": "code",
   "execution_count": 54,
   "id": "6f15e134",
   "metadata": {},
   "outputs": [
    {
     "name": "stdout",
     "output_type": "stream",
     "text": [
      "{1: 'Start'}\n",
      "{1: 'Running'}\n",
      "{1: 'Error'}\n"
     ]
    }
   ],
   "source": [
    "def log_message(msg, log=None):\n",
    "    if log is None:\n",
    "        log = {}\n",
    "        log[len(log) + 1] = msg\n",
    "    return log\n",
    "\n",
    "print(log_message(\"Start\"))\n",
    "print(log_message(\"Running\"))\n",
    "print(log_message(\"Error\"))\n"
   ]
  },
  {
   "cell_type": "markdown",
   "id": "215a9ca8",
   "metadata": {},
   "source": [
    " Shopping Cart\n",
    "def add_item(item, cart=[]):\n",
    "    cart.append(item)\n",
    "    return cart\n",
    "\n",
    "cart1 = add_item(\"apple\")\n",
    "cart2 = add_item(\"banana\")\n",
    "print(cart1)\n",
    "print(cart2)"
   ]
  },
  {
   "cell_type": "code",
   "execution_count": null,
   "id": "688da2a4",
   "metadata": {},
   "outputs": [
    {
     "name": "stdout",
     "output_type": "stream",
     "text": [
      "['apple']\n",
      "['banana']\n"
     ]
    }
   ],
   "source": [
    "def add_item(item, cart=None):\n",
    "    if cart is None:\n",
    "        cart = []\n",
    "        cart.append(item)\n",
    "    return cart\n",
    "\n",
    "cart1 = add_item(\"apple\")\n",
    "cart2 = add_item(\"banana\")\n",
    "print(cart1)\n",
    "print(cart2)\n"
   ]
  },
  {
   "cell_type": "markdown",
   "id": "808314c0",
   "metadata": {},
   "source": [
    "Nested Function Trap\n",
    "def build_user(name, details={\"age\": 0, \"city\": \"Unknown\"}):\n",
    "    details[\"name\"] = name\n",
    "    return details\n",
    "\n",
    "print(build_user(\"Alice\"))\n",
    "print(build_user(\"Bob\"))\n"
   ]
  },
  {
   "cell_type": "code",
   "execution_count": 60,
   "id": "475f0129",
   "metadata": {},
   "outputs": [
    {
     "name": "stdout",
     "output_type": "stream",
     "text": [
      "{'age': 0, 'city': 'Unknown', 'name': 'Alice'}\n",
      "{'age': 0, 'city': 'Unknown', 'name': 'Bob'}\n"
     ]
    }
   ],
   "source": [
    "def build_user(name, details=None):\n",
    "    if details is None:\n",
    "        details = {\"age\": 0, \"city\": \"Unknown\"}\n",
    "    details[\"name\"] = name\n",
    "    return details\n",
    "\n",
    "print(build_user(\"Alice\"))\n",
    "print(build_user(\"Bob\"))\n"
   ]
  },
  {
   "cell_type": "markdown",
   "id": "c315537e",
   "metadata": {},
   "source": [
    "Set Collector (Extra Sneaky)\n",
    "\n",
    "def collect_tags(tag, tags=set()):\n",
    "    tags.add(tag)\n",
    "    return tags\n",
    "\n",
    "print(collect_tags(\"python\"))\n",
    "print(collect_tags(\"ai\"))\n",
    "print(collect_tags(\"debugging\"))\n"
   ]
  },
  {
   "cell_type": "code",
   "execution_count": 64,
   "id": "f6b2daeb",
   "metadata": {},
   "outputs": [
    {
     "name": "stdout",
     "output_type": "stream",
     "text": [
      "{'python'}\n",
      "{'ai'}\n",
      "{'debugging'}\n"
     ]
    }
   ],
   "source": [
    "def collect_tags(tag, tags=None):\n",
    "    if tags is None:\n",
    "        tags= set()\n",
    "    tags.add(tag)\n",
    "    return tags\n",
    "\n",
    "print(collect_tags(\"python\"))\n",
    "print(collect_tags(\"ai\"))\n",
    "print(collect_tags(\"debugging\"))\n"
   ]
  }
 ],
 "metadata": {
  "kernelspec": {
   "display_name": "Python 3",
   "language": "python",
   "name": "python3"
  },
  "language_info": {
   "codemirror_mode": {
    "name": "ipython",
    "version": 3
   },
   "file_extension": ".py",
   "mimetype": "text/x-python",
   "name": "python",
   "nbconvert_exporter": "python",
   "pygments_lexer": "ipython3",
   "version": "3.13.3"
  }
 },
 "nbformat": 4,
 "nbformat_minor": 5
}
