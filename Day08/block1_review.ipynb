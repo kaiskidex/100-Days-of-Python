{
 "cells": [
  {
   "cell_type": "markdown",
   "id": "c4247079",
   "metadata": {},
   "source": [
    "## Syllabus Block 1 Topics:\n",
    "- Variables in Python\n",
    "- String Manipulation\n",
    "- Input and Print Functions\n",
    "- Variable Naming Rules\n",
    "- Mathematical Operations in Python\n",
    "- DataTypes\n",
    "- Converting types\n",
    "- Conditionals IF/ELIF/ELSE\n",
    "- Logical Operators\n"
   ]
  },
  {
   "cell_type": "markdown",
   "id": "e6eb3958",
   "metadata": {},
   "source": [
    "⚔️ Level 1 (Fundamentals Warm-Up)\n",
    "Objective: Build fluency with syntax, output, and core data types."
   ]
  },
  {
   "cell_type": "code",
   "execution_count": 9,
   "id": "9b967549",
   "metadata": {},
   "outputs": [
    {
     "name": "stdout",
     "output_type": "stream",
     "text": [
      " The value of a is 10 and the value of b is 5\n"
     ]
    }
   ],
   "source": [
    "# Variable Swap\n",
    "# Create two variables a = 5, b = 10. Swap their values without using a third variable.\n",
    "\n",
    "\n",
    "a = 5\n",
    "b = 10\n",
    "\n",
    "a, b = b, a #tuple unpacking\n",
    "\n",
    "print(f\" The value of a is {a} and the value of b is {b}\")"
   ]
  },
  {
   "cell_type": "code",
   "execution_count": null,
   "id": "5492737a",
   "metadata": {},
   "outputs": [
    {
     "name": "stdout",
     "output_type": "stream",
     "text": [
      "Null\n",
      "und\n",
      "dnuoblluN\n"
     ]
    }
   ],
   "source": [
    "# String Slicing\n",
    "# Given text = \"Nullbound\", extract:\n",
    "\n",
    "text = \"Nullbound\"\n",
    "\n",
    "# First 4 letters\n",
    "print(text[:4])\n",
    "\n",
    "# Last 3 letters\n",
    "print(text[6:])\n",
    "# The string reversed\n",
    "print(text[::-1]) "
   ]
  },
  {
   "cell_type": "code",
   "execution_count": 1,
   "id": "4f7d153c",
   "metadata": {},
   "outputs": [
    {
     "name": "stdout",
     "output_type": "stream",
     "text": [
      "Hello, kai. Your favorite number: 38\n"
     ]
    }
   ],
   "source": [
    "# Input Echo Chamber\n",
    "# Ask the user for their name and favorite number.\n",
    "\n",
    "# Print: \"Hello, [name]. Your favorite number doubled is [number * 2]\"\n",
    "\n",
    "name = input(\"Your name: \")\n",
    "number = int(input(\"Your favorite number: \"))\n",
    "\n",
    "print(f\"Hello, {name}. Your favorite number: {number * 2}\")"
   ]
  },
  {
   "cell_type": "code",
   "execution_count": 16,
   "id": "4f886d0f",
   "metadata": {},
   "outputs": [
    {
     "name": "stdout",
     "output_type": "stream",
     "text": [
      "4 + 7.5 = 11.5\n",
      "Convert Type: <class 'str'>\n"
     ]
    }
   ],
   "source": [
    "# Type Conversion Drill\n",
    "# Given: a = \"4\", b = \"7.5\"\n",
    "\n",
    "# Convert them to numbers, add them, then convert the result to a string and print its type.\n",
    "\n",
    "a = '4'\n",
    "a_int = int(a)\n",
    "b = '7.5'\n",
    "b_int = float(b)\n",
    "\n",
    "result = a_int + b_int\n",
    "\n",
    "convert = str(result)\n",
    "\n",
    "print(f\"{a} + {b} = {convert}\")\n",
    "print(f\"Convert Type: {type(convert)}\")\n",
    "\n",
    "\n"
   ]
  },
  {
   "cell_type": "code",
   "execution_count": 5,
   "id": "dd9209b3",
   "metadata": {},
   "outputs": [
    {
     "name": "stdout",
     "output_type": "stream",
     "text": [
      "<class 'str'>\n",
      "<class 'int'>\n",
      "<class 'float'>\n",
      "<class 'bool'>\n",
      "<class 'NoneType'>\n"
     ]
    }
   ],
   "source": [
    "# Data Type Quiz\n",
    "# Use type() to print the data types of: \"12\", 12, 12.0, True, None\n",
    "\n",
    "print(type(\"12\"))\n",
    "print(type(12))\n",
    "print(type(12.0))\n",
    "print(type(True))\n",
    "print(type(None))"
   ]
  },
  {
   "cell_type": "markdown",
   "id": "71bb44f3",
   "metadata": {},
   "source": [
    "🧪 Level 2 (Logic + Real Use)\n",
    "Objective: Combine inputs, conditions, type logic, and string formatting"
   ]
  },
  {
   "cell_type": "code",
   "execution_count": null,
   "id": "d8db3bc1",
   "metadata": {},
   "outputs": [
    {
     "name": "stdout",
     "output_type": "stream",
     "text": [
      "C\n"
     ]
    }
   ],
   "source": [
    "# Grading System\n",
    "# Ask user for a numeric score from 0–100.\n",
    "\n",
    "# Print:\n",
    "\n",
    "# \"A\" for 90+\n",
    "\n",
    "# \"B\" for 80–89\n",
    "\n",
    "# \"C\" for 70–79\n",
    "\n",
    "# \"D\" for 60–69\n",
    "\n",
    "# \"F\" for <60\n",
    "\n",
    "score = int(input(\"Pick numeric score from 0-100: \"))\n",
    "\n",
    "if score >= 90:\n",
    "    print(\"A\")\n",
    "elif score >= 80:\n",
    "    print(\"B\")\n",
    "elif score >= 70:\n",
    "    print(\"C\")\n",
    "elif score >= 60:\n",
    "    print(\"D\")\n",
    "elif score < 60:\n",
    "    print(\"F\")\n",
    "\n"
   ]
  },
  {
   "cell_type": "code",
   "execution_count": 24,
   "id": "612a9b72",
   "metadata": {},
   "outputs": [
    {
     "name": "stdout",
     "output_type": "stream",
     "text": [
      "Grant access\n"
     ]
    }
   ],
   "source": [
    "# Login Simulator\n",
    "# Ask for a username and password.\n",
    "\n",
    "# If username == \"admin\" and password == \"swordfish\", grant access.\n",
    "\n",
    "# Otherwise, deny with an appropriate message.\n",
    "\n",
    "\n",
    "username = input(\"Username: \").lower()\n",
    "password = input(\"Password: \")\n",
    "\n",
    "if username == \"admin\" and password == \"swordfish\":\n",
    "    print(\"Grant access\")\n",
    "else:\n",
    "    print(\"access denied!\")"
   ]
  },
  {
   "cell_type": "code",
   "execution_count": 31,
   "id": "0f6cb3c8",
   "metadata": {},
   "outputs": [
    {
     "name": "stdout",
     "output_type": "stream",
     "text": [
      "Your number 15\n",
      "Even\n",
      "Divisible by 3 and 5\n"
     ]
    }
   ],
   "source": [
    "# Odd or Even Analyzer\n",
    "# Ask for a number.\n",
    "\n",
    "# Print if it’s odd, even, and divisible by 3 or 5 (use if/elif/else and and/or)\n",
    "\n",
    "number = int(input(\"Your number: \"))\n",
    "print(f\"Your number {number}\")\n",
    "# check if odd or even\n",
    "\n",
    "if number % 2:\n",
    "    print(\"Even\")\n",
    "else:\n",
    "    print(\"Odd\")\n",
    "\n",
    "# check divisibility\n",
    "\n",
    "if number % 3 == 0 and number % 5 == 0:\n",
    "    print(\"Divisible by 3 and 5\")\n",
    "elif number % 5 == 0:\n",
    "    print(\"Divisible by 5\")\n",
    "elif number % 3 == 0:\n",
    "    print(\"Divisible by 3\")\n",
    "else:\n",
    "    print(\"Number not divisible by 3 and 5\")"
   ]
  },
  {
   "cell_type": "code",
   "execution_count": 32,
   "id": "b44b9544",
   "metadata": {},
   "outputs": [
    {
     "name": "stdout",
     "output_type": "stream",
     "text": [
      "19 * 20\n",
      "Result: 380\n"
     ]
    }
   ],
   "source": [
    "# Mini Calculator\n",
    "# Input: two numbers and an operator (+, -, *, /)\n",
    "\n",
    "# Output: the calculated result or \"Invalid operator\" if not recognized.\n",
    "\n",
    "\n",
    "num1 = int(input(\"First Number: \"))\n",
    "num2 = int(input(\"Second Number: \"))\n",
    "operator = input(\"Choose operator (+, -, *, /): \")\n",
    "\n",
    "print(f\"{num1} {operator} {num2}\")\n",
    "\n",
    "if operator == \"+\":\n",
    "    print(f\"Result: {num1 + num2}\")\n",
    "elif operator == \"-\":\n",
    "    print(f\"Result: {num1 - num2}\")\n",
    "elif operator == \"*\":\n",
    "    print(f\"Result: {num1 * num2}\")\n",
    "elif operator == \"/\":\n",
    "    print(f\"Result: {num1 / num2}\")\n",
    "else:\n",
    "    print(\"Invalid operator\")"
   ]
  },
  {
   "cell_type": "code",
   "execution_count": 33,
   "id": "a0cf92e4",
   "metadata": {},
   "outputs": [
    {
     "name": "stdout",
     "output_type": "stream",
     "text": [
      "Your age: 20\n",
      "Full access granted\n"
     ]
    }
   ],
   "source": [
    "# Ask for user’s birth year, calculate age.\n",
    "\n",
    "# If under 13: print “Too young”\n",
    "\n",
    "# 13–17: “Teen access granted”\n",
    "\n",
    "# 18+: “Full access granted”\n",
    "\n",
    "# Use int(input()) and 2025 as the current year.\n",
    "\n",
    "birth_year = int(input(\"Your birth year: \"))\n",
    "current_year = 2025\n",
    "age = current_year - birth_year\n",
    "print(f\"Your age: {age}\")\n",
    "\n",
    "\n",
    "if age >= 18:\n",
    "    print(\"Full access granted\")\n",
    "elif age >= 17:\n",
    "    print(\"Teen access granted\")\n",
    "elif age < 13:\n",
    "    print(\"Too young\")"
   ]
  },
  {
   "cell_type": "markdown",
   "id": "d7c00a26",
   "metadata": {},
   "source": [
    "🔥 Level 3 (Synthesis and Branching Logic)\n",
    "Objective: Combine types, conditions, formatting, and logic into mini systems."
   ]
  },
  {
   "cell_type": "code",
   "execution_count": 3,
   "id": "56ffbd56",
   "metadata": {},
   "outputs": [
    {
     "name": "stdout",
     "output_type": "stream",
     "text": [
      "Annual income: 500000.0\n",
      "You owe $150000.00 in taxes.\n"
     ]
    }
   ],
   "source": [
    "# Income Tax Bracket Simulator\n",
    "# Input: user’s annual income.\n",
    "\n",
    "# Output: tax owed, using rules:\n",
    "\n",
    "# <10,000 → 0%\n",
    "\n",
    "# 10k–30k → 10%\n",
    "\n",
    "# 30k–100k → 20%\n",
    "\n",
    "# 100k+ → 30%\n",
    "\n",
    "# Show full message: \"You owe $X in taxes.\"\n",
    "\n",
    "annual_income = float(input(\"Your annual income: \"))\n",
    "print(f\"Annual income: {annual_income}\")\n",
    "\n",
    "def calculate_tax(rate, income):\n",
    "    return rate * income \n",
    "\n",
    "if annual_income > 100000:\n",
    "    tax = calculate_tax(0.3, annual_income)\n",
    "elif annual_income > 30000:\n",
    "    tax = calculate_tax(0.2, annual_income)\n",
    "elif annual_income > 10000:\n",
    "    tax = calculate_tax(0.1, annual_income)\n",
    "else:\n",
    "    tax = calculate_tax(0.0, annual_income)\n",
    "\n",
    "print(f\"You owe ${tax:.2f} in taxes.\")\n",
    "\n",
    "\n"
   ]
  },
  {
   "cell_type": "code",
   "execution_count": 9,
   "id": "686b402a",
   "metadata": {},
   "outputs": [
    {
     "name": "stdout",
     "output_type": "stream",
     "text": [
      "Your full name: Xia Yizhou\n",
      "Name accepted! \n"
     ]
    }
   ],
   "source": [
    "# Name Validity Check\n",
    "# Input: full name.\n",
    "\n",
    "# Check:\n",
    "\n",
    "# Must be at least 5 characters\n",
    "\n",
    "# Must contain a space\n",
    "\n",
    "# Must not contain any numbers\n",
    "\n",
    "# If valid, print \"Name accepted\", else print reason.\n",
    "\n",
    "full_name = str(input(\"Full Name: \"))\n",
    "name_length = len(full_name)\n",
    "print(f\"Your full name: {full_name}\")\n",
    "\n",
    "#check \n",
    "if name_length < 5:\n",
    "    print(\"Invalid: Too short\")\n",
    "elif \" \" not in full_name:\n",
    "    print(\"Invalid: No space\")\n",
    "elif any(char.isdigit() for char in full_name):\n",
    "    print(\"Invalid: name contains numbers \")\n",
    "else:\n",
    "    print(\"Name accepted! \")\n"
   ]
  },
  {
   "cell_type": "code",
   "execution_count": 13,
   "id": "b264388b",
   "metadata": {},
   "outputs": [
    {
     "name": "stdout",
     "output_type": "stream",
     "text": [
      "Your word: veritaserum\n",
      "Rejected, letters must be 7\n",
      "Your word: VERITA\n",
      "Rejected: must start with veri null code\n",
      "Your word: veritae\n",
      "The system recognizes your key.\n"
     ]
    }
   ],
   "source": [
    "# Magic Word Puzzle\n",
    "# Ask the user to input a secret word.\n",
    "\n",
    "# Only accept if:\n",
    "\n",
    "# It starts with \"veri\"\n",
    "\n",
    "# Is exactly 7 letters\n",
    "\n",
    "# All lowercase\n",
    "\n",
    "# If accepted, print \"The system recognizes your key.\"\n",
    "\n",
    "#OPTIONAL: \n",
    "# Turn this into a mini function that returns a True/False and a reason.\n",
    "\n",
    "# Add a limited number of attempts (e.g. 3 tries then lockout).\n",
    "\n",
    "# Accept multiple magic prefixes like \"veri\", \"null\", or \"code\" via a list.\n",
    "\n",
    "max_attempts = 3\n",
    "attempts = 0\n",
    "\n",
    "\n",
    "def validate_secret(word):\n",
    "    valid_prefixes = ['veri', 'null', 'code']\n",
    "\n",
    "\n",
    "    if not any(word.startswith(prefix) for prefix in valid_prefixes):\n",
    "        prefixes = \" \".join(valid_prefixes)\n",
    "        return False, (f\"Rejected: must start with {prefixes}\")\n",
    "    elif len(word) != 7:\n",
    "        return False, \"Rejected, letters must be 7\"\n",
    "    elif not word.islower():\n",
    "        return False, \"Rejected, must be all lowercase\"\n",
    "    else:\n",
    "        return True, \"The system recognizes your key.\"\n",
    "\n",
    "while attempts < max_attempts:\n",
    "    secret_word = input(\"Input secret word: \").strip()\n",
    "    is_valid, reason = validate_secret(secret_word)\n",
    "    print(f\"Your word: {secret_word}\")\n",
    "    print(reason)\n",
    "\n",
    "    if is_valid:# tuple is unpacked and  if it is true, the program stops\n",
    "        break\n",
    "    attempts += 1\n",
    "\n",
    "if attempts == max_attempts and not is_valid:\n",
    "    print(\"Access denied. Too many failed attempts.\")\n",
    "\n"
   ]
  },
  {
   "cell_type": "code",
   "execution_count": 1,
   "id": "64a8504f",
   "metadata": {},
   "outputs": [
    {
     "name": "stdout",
     "output_type": "stream",
     "text": [
      "You chose to cast the fireball\n",
      "You chose to strike the arrow\n"
     ]
    }
   ],
   "source": [
    "# Command Parser\n",
    "# Input: a string like \"move north\" or \"cast fireball\"\n",
    "\n",
    "# Split the string into action and target.\n",
    "\n",
    "# Print:\n",
    "\n",
    "# \"You chose to [action] the [target]\"\n",
    "\n",
    "# Multi-Command Parser\n",
    "\n",
    "def parse_command(command_str):\n",
    "    # Split the full command string by \"and\"\n",
    "    commands = command_str.split(\" and \")\n",
    "    \n",
    "    for cmd in commands:\n",
    "        parts = cmd.strip().split()\n",
    "        \n",
    "        if len(parts) < 2:\n",
    "            print(\"Invalid command: must have an action and a target.\")\n",
    "            continue\n",
    "        \n",
    "        action = parts[0]\n",
    "        target_words = [word for word in parts[1:] if word.lower() != \"the\"]\n",
    "        target = ' '.join(target_words)\n",
    "        \n",
    "        print(f\"You chose to {action} the {target}\")\n",
    "\n",
    "#Input\n",
    "user_input = input(\"Input your command: \").strip().lower()\n",
    "\n",
    "#Run the parser\n",
    "parse_command(user_input)\n"
   ]
  },
  {
   "cell_type": "code",
   "execution_count": 6,
   "id": "7f948685",
   "metadata": {},
   "outputs": [
    {
     "name": "stdout",
     "output_type": "stream",
     "text": [
      "\n",
      "===== ATM Menu =====\n",
      "[1] Check balance\n",
      "[2] Deposit\n",
      "[3] Withdraw\n",
      "[4] Exit\n",
      "You chose: 1\n",
      "Your current balance: 500\n",
      "\n",
      "===== ATM Menu =====\n",
      "[1] Check balance\n",
      "[2] Deposit\n",
      "[3] Withdraw\n",
      "[4] Exit\n",
      "You chose: 2\n",
      "Available balance: 500\n",
      "Deposited Amount: 500\n",
      "New Balance: 1000\n",
      "\n",
      "===== ATM Menu =====\n",
      "[1] Check balance\n",
      "[2] Deposit\n",
      "[3] Withdraw\n",
      "[4] Exit\n",
      "You chose: 3\n",
      "Available balance: 1000\n",
      "Withdrawn: 500\n",
      "New Balance: 100\n",
      "\n",
      "===== ATM Menu =====\n",
      "[1] Check balance\n",
      "[2] Deposit\n",
      "[3] Withdraw\n",
      "[4] Exit\n",
      "You chose: 3\n",
      "Available balance: 100\n",
      "Withdrawn: 500\n",
      "New Balance: 0\n",
      "\n",
      "===== ATM Menu =====\n",
      "[1] Check balance\n",
      "[2] Deposit\n",
      "[3] Withdraw\n",
      "[4] Exit\n",
      "You chose: 5\n",
      "Invalid option. Please choose again.\n",
      "\n",
      "===== ATM Menu =====\n",
      "[1] Check balance\n",
      "[2] Deposit\n",
      "[3] Withdraw\n",
      "[4] Exit\n",
      "You chose: 2\n",
      "Available balance: 0\n",
      "Can't deposit negative amount.\n",
      "\n",
      "===== ATM Menu =====\n",
      "[1] Check balance\n",
      "[2] Deposit\n",
      "[3] Withdraw\n",
      "[4] Exit\n",
      "You chose: 4\n",
      "Exiting...Goodbye.\n"
     ]
    }
   ],
   "source": [
    "# ATM Menu System\n",
    "# Display menu:\n",
    "\n",
    "# [1] Check balance\n",
    "\n",
    "# [2] Deposit\n",
    "\n",
    "# [3] Withdraw\n",
    "\n",
    "# Use variables to simulate a balance (start with 500)\n",
    "\n",
    "# Ask user to pick an option and act accordingly\n",
    "\n",
    "# Handle invalid input with an error message\n",
    "\n",
    "balance = 500\n",
    "\n",
    "while True:\n",
    "    print(\"\\n===== ATM Menu =====\")\n",
    "    print(\"[1] Check balance\")\n",
    "    print(\"[2] Deposit\")\n",
    "    print(\"[3] Withdraw\")\n",
    "    print(\"[4] Exit\")\n",
    "\n",
    "    try:\n",
    "        user_choice = int(input(\">> \"))\n",
    "        print(f\"You chose: {user_choice}\")\n",
    "    except ValueError:\n",
    "        print(\"Invalid input. Please enter a number.\")\n",
    "        continue\n",
    "\n",
    "    if user_choice not in [1,2,3,4]:\n",
    "        print(\"Invalid option. Please choose again.\")\n",
    "        continue\n",
    "\n",
    "    if user_choice == 1:\n",
    "        print(f\"Your current balance: {balance}\")\n",
    "        \n",
    "    elif user_choice == 2:\n",
    "        try: \n",
    "            print(f\"Available balance: {balance}\")\n",
    "            deposit = int(input(\"Deposit Amount: \"))\n",
    "            if deposit < 0:\n",
    "                print(\"Can't deposit negative amount.\")\n",
    "                continue\n",
    "\n",
    "            balance += deposit\n",
    "            print(f\"Deposited Amount: {deposit}\")\n",
    "            print(f\"New Balance: {balance}\")\n",
    "\n",
    "        except ValueError:\n",
    "            print(\"Invalid amount. Try again.\")\n",
    "            continue\n",
    "\n",
    "    elif user_choice == 3:\n",
    "        try: \n",
    "            print(f\"Available balance: {balance}\")\n",
    "            withdraw = int(input(\"Withdraw Amount: \"))\n",
    "            if withdraw < 0:\n",
    "                print(\"Can't withdraw negative amount.\")\n",
    "                continue\n",
    "\n",
    "            balance -= withdraw   \n",
    "            print(f\"Withdrawn: {deposit}\")\n",
    "            print(f\"New Balance: {balance}\")\n",
    "\n",
    "        except ValueError:\n",
    "            print(\"Invalid amount. Try again.\")\n",
    "            continue\n",
    "    \n",
    "    elif user_choice == 4:\n",
    "        print(\"Exiting...Goodbye.\")\n",
    "        break\n"
   ]
  }
 ],
 "metadata": {
  "kernelspec": {
   "display_name": "Python 3",
   "language": "python",
   "name": "python3"
  },
  "language_info": {
   "codemirror_mode": {
    "name": "ipython",
    "version": 3
   },
   "file_extension": ".py",
   "mimetype": "text/x-python",
   "name": "python",
   "nbconvert_exporter": "python",
   "pygments_lexer": "ipython3",
   "version": "3.13.3"
  }
 },
 "nbformat": 4,
 "nbformat_minor": 5
}
