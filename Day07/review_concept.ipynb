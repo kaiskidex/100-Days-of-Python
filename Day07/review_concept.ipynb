{
 "cells": [
  {
   "cell_type": "code",
   "execution_count": 2,
   "id": "f416d9ba",
   "metadata": {},
   "outputs": [
    {
     "name": "stdout",
     "output_type": "stream",
     "text": [
      "Hello\n"
     ]
    }
   ],
   "source": [
    "# LEVEL 1: Basic Definition & Call\n",
    "def greet():\n",
    "    return \"Hello\"\n",
    "\n",
    "greeting = greet()\n",
    "print(greeting)"
   ]
  },
  {
   "cell_type": "code",
   "execution_count": 3,
   "id": "5f651710",
   "metadata": {},
   "outputs": [
    {
     "name": "stdout",
     "output_type": "stream",
     "text": [
      "5\n"
     ]
    }
   ],
   "source": [
    "#Add Two Numbers\n",
    "def add(a, b):\n",
    "    return a + b\n",
    "\n",
    "print(add(2, 3))"
   ]
  },
  {
   "cell_type": "code",
   "execution_count": null,
   "id": "38c673cb",
   "metadata": {},
   "outputs": [
    {
     "name": "stdout",
     "output_type": "stream",
     "text": [
      "HEY\n"
     ]
    }
   ],
   "source": [
    "### ✅ LEVEL 2: Return vs Print\n",
    "\n",
    "# 1. **Return and Print**\n",
    "\n",
    "def shout(word):\n",
    "    return word.upper()\n",
    "\n",
    "# ▶ What happens if you just call shout(\"hey\")?\n",
    "# ▶ What happens if you print(shout(\"hey\"))?\n",
    "\n",
    "shout(\"hey\")\n",
    "print(shout(\"hey\")) #this removes the '' it basically called the function and printed the result"
   ]
  },
  {
   "cell_type": "code",
   "execution_count": null,
   "id": "46718b08",
   "metadata": {},
   "outputs": [
    {
     "name": "stdout",
     "output_type": "stream",
     "text": [
      "DEBUG: what\n",
      "Done\n"
     ]
    }
   ],
   "source": [
    "def debug(word):\n",
    "    print(\"DEBUG:\", word)\n",
    "    return \"Done\"\n",
    "\n",
    "# ▶ What’s the return value? What gets printed?\n",
    "\n",
    "# my answer before running: nothing gets printed unless the function is called.\n",
    "\n",
    "print(debug(\"what\"))"
   ]
  },
  {
   "cell_type": "code",
   "execution_count": 10,
   "id": "bd8edbe2",
   "metadata": {},
   "outputs": [
    {
     "name": "stdout",
     "output_type": "stream",
     "text": [
      "Welcome, Kai!\n"
     ]
    }
   ],
   "source": [
    "# ✅ LEVEL 3: Parameters, Arguments, Scope\n",
    "# Pass a Name\n",
    "\n",
    "def welcome(name):\n",
    "    return f\"Welcome, {name}!\"\n",
    "\n",
    "# ▶ Pass your name and print the result.\n",
    "\n",
    "print(welcome(\"Kai\"))"
   ]
  },
  {
   "cell_type": "code",
   "execution_count": 12,
   "id": "2d92bd28",
   "metadata": {},
   "outputs": [
    {
     "name": "stdout",
     "output_type": "stream",
     "text": [
      "6\n"
     ]
    }
   ],
   "source": [
    "# Variable Scope\n",
    "def mutate(x):\n",
    "    x += 1\n",
    "    return x\n",
    "\n",
    "num = 5\n",
    "new_num = mutate(num)\n",
    "\n",
    "# ▶ What is num? What is new_num?\n",
    "# num is a variable where the value inside is 5, then in a new variable, the function mutate() is called then \n",
    "# 5 is its argument.\n",
    "\n",
    "print(new_num)\n"
   ]
  },
  {
   "cell_type": "code",
   "execution_count": 13,
   "id": "647a1914",
   "metadata": {},
   "outputs": [
    {
     "name": "stdout",
     "output_type": "stream",
     "text": [
      "False\n"
     ]
    }
   ],
   "source": [
    "# ✅ LEVEL 4: Logic in Functions\n",
    "# Check Even/Odd\n",
    "\n",
    "\n",
    "def is_even(num):\n",
    "    return num % 2 == 0\n",
    "\n",
    "# ▶ Call with different numbers, print result.\n",
    "\n",
    "check = is_even(3)\n",
    "print(check)"
   ]
  },
  {
   "cell_type": "code",
   "execution_count": 15,
   "id": "2844d5d8",
   "metadata": {},
   "outputs": [
    {
     "name": "stdout",
     "output_type": "stream",
     "text": [
      "C or below\n",
      "A\n",
      "C or below\n"
     ]
    }
   ],
   "source": [
    "def grade(score):\n",
    "    if score >= 90:\n",
    "        return \"A\"\n",
    "    elif score >= 80:\n",
    "        return \"B\"\n",
    "    else:\n",
    "        return \"C or below\"\n",
    "\n",
    "# ▶ Call with various scores.\n",
    "\n",
    "print(grade(50))\n",
    "print(grade(90))\n",
    "print(grade(60))"
   ]
  },
  {
   "cell_type": "code",
   "execution_count": null,
   "id": "54cf1c25",
   "metadata": {},
   "outputs": [
    {
     "name": "stdout",
     "output_type": "stream",
     "text": [
      "18\n"
     ]
    }
   ],
   "source": [
    "# ✅ LEVEL 5: Function Chaining\n",
    "# Use One Function Inside Another\n",
    "\n",
    "def square(n):\n",
    "    return n * n\n",
    "\n",
    "def double_square(n):\n",
    "    return square(n) * 2\n",
    "\n",
    "# ▶ What’s double_square(3)? A: 18?\n",
    "\n",
    "print(double_square(3))"
   ]
  },
  {
   "cell_type": "code",
   "execution_count": null,
   "id": "e35ea39d",
   "metadata": {},
   "outputs": [
    {
     "name": "stdout",
     "output_type": "stream",
     "text": [
      "30\n"
     ]
    }
   ],
   "source": [
    "# Attack + Multiply\n",
    "def base_damage():\n",
    "    return 15\n",
    "\n",
    "def crit_multiplier():\n",
    "    return 2\n",
    "\n",
    "def total_damage():\n",
    "    return base_damage() * crit_multiplier()\n",
    "\n",
    "print(total_damage())  # Should print 20\n",
    "\n",
    "# 💬 Try modifying base_damage() to return 15. What’s the new output? 30\n"
   ]
  },
  {
   "cell_type": "code",
   "execution_count": 33,
   "id": "1ac7f30b",
   "metadata": {},
   "outputs": [
    {
     "name": "stdout",
     "output_type": "stream",
     "text": [
      "Access granted\n",
      "Access granted\n",
      "Access denied\n"
     ]
    }
   ],
   "source": [
    "#  Evaluate Login\n",
    "\n",
    "valid_users = [\"Kai\", \"Lee\", \"Dex\"]\n",
    "\n",
    "def is_valid_user(username):\n",
    "    return username in valid_users\n",
    "\n",
    "def login(username):\n",
    "    if is_valid_user(username):\n",
    "        return \"Access granted\"\n",
    "    else:\n",
    "        return \"Access denied\"\n",
    "\n",
    "print(login(\"Kai\"))     # Access granted\n",
    "print(login(\"Dex\"))\n",
    "print(login(\"Other\"))   # Access denied\n",
    "# 💬 What if we replace username == \"Kai\" with a list of valid users?\n",
    "\n"
   ]
  },
  {
   "cell_type": "code",
   "execution_count": null,
   "id": "4160ae0f",
   "metadata": {},
   "outputs": [
    {
     "name": "stdout",
     "output_type": "stream",
     "text": [
      "16\n"
     ]
    }
   ],
   "source": [
    "# Nest Return Values\n",
    "\n",
    "def double(n):\n",
    "    return n * 2\n",
    "\n",
    "def add_five(n):\n",
    "    return n + 5\n",
    "\n",
    "def combo(n):\n",
    "    return double(add_five(n))  # double first, then add\n",
    "\n",
    "print(combo(3))  # 3*2=6, then 6+5=11\n",
    "\n",
    "# 💬 What happens if you reverse the order? double(add_five(n))\n",
    "# the inner function is performed first, therefore, 3+5= 8 * 2= 16\n",
    "\n"
   ]
  },
  {
   "cell_type": "code",
   "execution_count": null,
   "id": "6682ae0e",
   "metadata": {},
   "outputs": [
    {
     "name": "stdout",
     "output_type": "stream",
     "text": [
      "10\n",
      "15\n"
     ]
    }
   ],
   "source": [
    "# Scope Check\n",
    "def boost(x):\n",
    "    x += 5\n",
    "    return x\n",
    "\n",
    "power = 10\n",
    "new_power = boost(power)\n",
    "\n",
    "print(power)     # 10\n",
    "print(new_power) # 15\n",
    "\n",
    "# 💬 Why didn’t power change?\n",
    "#power is the default and what is inside the"
   ]
  },
  {
   "cell_type": "code",
   "execution_count": null,
   "id": "093798ce",
   "metadata": {},
   "outputs": [
    {
     "name": "stdout",
     "output_type": "stream",
     "text": [
      "You sprint!\n"
     ]
    }
   ],
   "source": [
    "# Multiple Parameters, Conditional Routing\n",
    "# You’ll begin building small command systems using multiple inputs, e.g.:\n",
    "def action(command, energy):\n",
    "    if command == \"run\" and energy > 10:\n",
    "        return \"You sprint!\"\n",
    "    else:\n",
    "        return \"You stumble...\"\n",
    "\n",
    "print(action(\"run\", 30))"
   ]
  }
 ],
 "metadata": {
  "kernelspec": {
   "display_name": "Python 3",
   "language": "python",
   "name": "python3"
  },
  "language_info": {
   "codemirror_mode": {
    "name": "ipython",
    "version": 3
   },
   "file_extension": ".py",
   "mimetype": "text/x-python",
   "name": "python",
   "nbconvert_exporter": "python",
   "pygments_lexer": "ipython3",
   "version": "3.13.3"
  }
 },
 "nbformat": 4,
 "nbformat_minor": 5
}
