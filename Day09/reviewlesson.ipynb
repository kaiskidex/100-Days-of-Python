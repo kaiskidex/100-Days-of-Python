{
 "cells": [
  {
   "cell_type": "markdown",
   "id": "9a7a3545",
   "metadata": {},
   "source": [
    "**Dictionaries and Nesting**\n",
    "⚔️ Practice Exercises\n",
    "\n"
   ]
  },
  {
   "cell_type": "markdown",
   "id": "cda48390",
   "metadata": {},
   "source": [
    "🥊 Level 1 (Basics)\n",
    "\n",
    "1. Create a dictionary for a book with keys: title, author, year. Print it.\n",
    "\n",
    "2. Add a new key genre and update the year.\n",
    "\n",
    "3. Remove the author key."
   ]
  },
  {
   "cell_type": "code",
   "execution_count": 4,
   "id": "4860efb0",
   "metadata": {},
   "outputs": [
    {
     "name": "stdout",
     "output_type": "stream",
     "text": [
      "{'title': 'Harry Potter', 'author': 'J.K Rowling', 'Year': 2000}\n",
      "{'title': 'Harry Potter', 'author': 'J.K Rowling', 'Year': 2001, 'genre': 'fantasy'}\n",
      "{'title': 'Harry Potter', 'Year': 2001, 'genre': 'fantasy'}\n"
     ]
    }
   ],
   "source": [
    "# 1\n",
    "\n",
    "book = {\n",
    "    \"title\": \"Harry Potter\",\n",
    "    \"author\": \"J.K Rowling\",\n",
    "    \"Year\": 2000,\n",
    "}\n",
    "\n",
    "print(book)\n",
    "\n",
    "# 2 \n",
    "\n",
    "book[\"genre\"] = \"fantasy\"\n",
    "book[\"Year\"] = 2001\n",
    "print(book)\n",
    "\n",
    "# 3\n",
    "\n",
    "book.pop(\"author\")\n",
    "print(book)"
   ]
  },
  {
   "cell_type": "markdown",
   "id": "81d6ae14",
   "metadata": {},
   "source": [
    "🥊 Level 2 (Iteration)\n",
    "\n",
    "Create a dictionary of countries and capitals. Loop through and print \"The capital of X is Y\".\n",
    "\n",
    "Write a program that counts the frequency of letters in a word (hint: use .get() when updating counts)."
   ]
  },
  {
   "cell_type": "code",
   "execution_count": null,
   "id": "1a0d6ddd",
   "metadata": {},
   "outputs": [
    {
     "name": "stdout",
     "output_type": "stream",
     "text": [
      "The capital of Japan is Tokyo\n",
      "The capital of Philippines is Manila\n",
      "The capital of Thailand is Bangkok\n",
      "The capital of Vietnam is Hanoi\n",
      "The capital of China is Beijing\n",
      "The capital of South Korea is Seoul\n",
      "{'b': 1, 'a': 3, 'n': 2}\n"
     ]
    }
   ],
   "source": [
    "# 1\n",
    "dictionary = {\n",
    "    \"Japan\": \"Tokyo\",\n",
    "    \"Philippines\": \"Manila\",\n",
    "    \"Thailand\": \"Bangkok\",\n",
    "    \"Vietnam\": \"Hanoi\",\n",
    "    \"China\": \"Beijing\",\n",
    "    \"South Korea\": \"Seoul\"\n",
    "}\n",
    "\n",
    "\n",
    "for i in dictionary:\n",
    "    print(f\"The capital of {i} is {dictionary[i]}\")\n",
    "\n",
    "# 2\n",
    "\n",
    "word = \"banana\"\n",
    "letter_count = {}\n",
    "\n",
    "for letter in word:\n",
    "    letter_count[letter] = letter_count.get(letter, 0) + 1 \n",
    "\n",
    "print(letter_count)\n"
   ]
  },
  {
   "cell_type": "markdown",
   "id": "64654b66",
   "metadata": {},
   "source": [
    "🥊 Level 3 (Nested)\n",
    "\n",
    "Make a classroom dictionary where each key is a student’s name and value is another dictionary with age and grade.\n",
    "\n",
    "Print the grade of one student.\n",
    "\n",
    "Loop through all students and print their name + grade."
   ]
  },
  {
   "cell_type": "code",
   "execution_count": null,
   "id": "2300c139",
   "metadata": {},
   "outputs": [
    {
     "name": "stdout",
     "output_type": "stream",
     "text": [
      "100\n",
      "kali 99\n",
      "zayne 100\n",
      "caleb 100\n"
     ]
    }
   ],
   "source": [
    "# 1\n",
    "classroom = {\n",
    "    \"kali\": {\"age\": 20, \"grade\": 99},\n",
    "    \"zayne\": {\"age\": 19, \"grade\": 100},\n",
    "    \"caleb\": {\"age\": 21, \"grade\": 100}\n",
    "}\n",
    "# 2\n",
    "print(classroom[\"caleb\"][\"grade\"])\n",
    "\n",
    "# 3\n",
    "for student in classroom:\n",
    "    print(student, classroom[student][\"grade\"])"
   ]
  },
  {
   "cell_type": "markdown",
   "id": "5e9c82bd",
   "metadata": {},
   "source": [
    "🥊 Level 4 (Applied)\n",
    "\n",
    "Build a mini phonebook:\n",
    "\n",
    "User enters names + numbers to store in a dictionary.\n",
    "\n",
    "User can search for a name to get the number (use .get() for safe lookup)."
   ]
  },
  {
   "cell_type": "code",
   "execution_count": 9,
   "id": "ee962e19",
   "metadata": {},
   "outputs": [
    {
     "name": "stdout",
     "output_type": "stream",
     "text": [
      "Phonebook: {'kai': 444}\n",
      "kai's number is 444\n"
     ]
    }
   ],
   "source": [
    "username = str(input(\"Enter name: \"))\n",
    "number = int(input(\"Enter no.: \"))\n",
    "\n",
    "phonebook = {}\n",
    "\n",
    "phonebook[username] = number\n",
    "\n",
    "print(\"Phonebook:\", phonebook)\n",
    "\n",
    "\n",
    "search = str(input(\"Search for name: \"))\n",
    "\n",
    "result = phonebook.get(search)\n",
    "\n",
    "if result:\n",
    "    print(f\"{search}'s number is {result}\")\n",
    "else:\n",
    "    print(f\"{search} not found in phonebook.\")\n"
   ]
  },
  {
   "cell_type": "code",
   "execution_count": 15,
   "id": "a9ee99f1",
   "metadata": {},
   "outputs": [
    {
     "name": "stdout",
     "output_type": "stream",
     "text": [
      "{'Harry': 'Exceeds Expectations', 'Ron': 'Acceptable', 'Hermione': 'Outstanding', 'Draco': 'Acceptable', 'Neville': 'Fail'}\n"
     ]
    }
   ],
   "source": [
    "student_scores = {\n",
    "    'Harry': 88,\n",
    "    'Ron': 78,\n",
    "    'Hermione': 95,\n",
    "    'Draco': 75,\n",
    "    'Neville': 60\n",
    "}\n",
    "\n",
    "student_grades = {}\n",
    "\n",
    "for student, score in student_scores.items():\n",
    "    if score >= 91:\n",
    "        remark = \"Outstanding\"\n",
    "    elif score >= 81:\n",
    "        remark = \"Exceeds Expectations\"\n",
    "    elif score >= 71:\n",
    "        remark = \"Acceptable\"\n",
    "    else:\n",
    "        remark = \"Fail\"\n",
    "    student_grades[student] = remark\n",
    "\n",
    "print(student_grades)"
   ]
  },
  {
   "cell_type": "markdown",
   "id": "10a46287",
   "metadata": {},
   "source": [
    "Student Gradebook (Weighted Average)\n",
    "\n",
    "Input: dictionary of students, each with nested dictionary of subjects + grades.\n",
    "\n",
    "Example:\n",
    "\n",
    "gradebook = {\n",
    "    \"Alice\": {\"Math\": 90, \"Science\": 85, \"History\": 88},\n",
    "    \"Bob\": {\"Math\": 72, \"Science\": 95, \"History\": 80},\n",
    "}\n",
    "\n",
    "\n",
    "Task:\n",
    "\n",
    "Write a function to return the average grade per student.\n",
    "\n",
    "Then, return the top student overall.\n",
    "\n",
    "Bonus: allow subjects to have different weights ({\"Math\": 0.4, \"Science\": 0.3, \"History\": 0.3})."
   ]
  },
  {
   "cell_type": "code",
   "execution_count": 1,
   "id": "04fa8013",
   "metadata": {},
   "outputs": [
    {
     "name": "stdout",
     "output_type": "stream",
     "text": [
      "Alice 88\n",
      "Bob 83\n",
      "\n",
      "Top student is Alice with an average of 88\n"
     ]
    }
   ],
   "source": [
    "import math\n",
    "gradebook = {\n",
    "    \"Alice\": {\"Math\": 90, \"Science\": 85, \"History\": 88},\n",
    "    \"Bob\": {\"Math\": 72, \"Science\": 95, \"History\": 80},\n",
    "}\n",
    "\n",
    "# average grade per student\n",
    "\n",
    "top_student = None\n",
    "top_average = -1\n",
    "\n",
    "for student in gradebook:\n",
    "    average = (gradebook[student][\"Math\"] + gradebook[student][\"Science\"] + gradebook[student][\"History\"]) / 3\n",
    "    average_off = math.ceil(average)\n",
    "    print(f\"{student} {average_off}\")\n",
    "\n",
    "    if average_off > top_average:\n",
    "        top_average = average_off\n",
    "        top_student = student\n",
    "\n",
    "\n",
    "print(f\"\\nTop student is {top_student} with an average of {top_average}\")\n",
    "\n"
   ]
  },
  {
   "cell_type": "markdown",
   "id": "ca992fee",
   "metadata": {},
   "source": [
    "Voting System\n",
    "\n",
    "Input: list of votes (strings with candidate names).\n",
    "\n",
    "votes = [\"Alice\", \"Bob\", \"Alice\", \"Alice\", \"Charlie\", \"Bob\"]\n",
    "\n",
    "\n",
    "Task:\n",
    "\n",
    "Count votes using a dictionary.\n",
    "\n",
    "Print the winner and vote counts.\n",
    "\n",
    "Handle ties properly."
   ]
  },
  {
   "cell_type": "code",
   "execution_count": null,
   "id": "ab96f375",
   "metadata": {},
   "outputs": [
    {
     "name": "stdout",
     "output_type": "stream",
     "text": [
      "{'Alice': 3, 'Bob': 2, 'Charlie': 1}\n",
      "The winner is Alice with a total of 3 votes.\n",
      "Alice\n"
     ]
    }
   ],
   "source": [
    "votes = [\"Alice\", \"Bob\", \"Alice\", \"Alice\", \"Charlie\", \"Bob\"]\n",
    "\n",
    "counts = {}\n",
    "\n",
    "for vote in votes:\n",
    "    if vote in counts:\n",
    "        counts[vote] += 1\n",
    "    else:\n",
    "        counts[vote] = 1\n",
    "\n",
    "print(counts)\n",
    "\n",
    "\n",
    "winner = \"\"\n",
    "highest_votes = 0\n",
    "\n",
    "for vote in counts:\n",
    "    votes_count = counts[vote]\n",
    "    if votes_count > highest_votes:\n",
    "        highest_votes = votes_count\n",
    "        winner = vote\n",
    "        \n",
    "print(f\"The winner is {winner} with a total of {highest_votes} votes.\")\n",
    "\n",
    "#using max \n",
    "win = max(counts, key=counts.get )\n",
    "print(win)"
   ]
  },
  {
   "cell_type": "markdown",
   "id": "d19b5533",
   "metadata": {},
   "source": [
    "Inventory Manager\n",
    "\n",
    "Input: dictionary of items and their stock.\n",
    "\n",
    "store = {\n",
    "    \"Potion\": {\"price\": 50, \"stock\": 10},\n",
    "    \"Sword\": {\"price\": 150, \"stock\": 5},\n",
    "    \"Shield\": {\"price\": 100, \"stock\": 2}\n",
    "}\n",
    "\n",
    "\n",
    "Task:\n",
    "\n",
    "Write a function buy_item(item, qty) that decreases stock and returns total cost.\n",
    "\n",
    "If stock is insufficient, print an error.\n",
    "\n",
    "Bonus: keep a sales log dictionary tracking how much revenue each item generated."
   ]
  },
  {
   "cell_type": "code",
   "execution_count": 30,
   "id": "a056722d",
   "metadata": {},
   "outputs": [
    {
     "name": "stdout",
     "output_type": "stream",
     "text": [
      "{'Potion': {'remaining_stock': 7, 'total_value': 150}}\n",
      "{'Potion': {'remaining_stock': 7, 'total_value': 150}, 'Sword': {'remaining_stock': 2, 'total_value': 450}}\n",
      "Error: Not enough Shield in stock. Available: 2, Requested: 3\n"
     ]
    }
   ],
   "source": [
    "store = {\n",
    "    \"Potion\": {\"price\": 50, \"stock\": 10},\n",
    "    \"Sword\": {\"price\": 150, \"stock\": 5},\n",
    "    \"Shield\": {\"price\": 100, \"stock\": 2}\n",
    "}\n",
    "\n",
    "new_inventory = {}\n",
    "requested_qty = 3\n",
    "\n",
    "for item in store:\n",
    "    stock = store[item][\"stock\"]\n",
    "    price = store[item][\"price\"]\n",
    "\n",
    "    if stock >= requested_qty:\n",
    "        stock_left = stock - requested_qty\n",
    "        total_price = price * requested_qty\n",
    "\n",
    "        new_inventory[item] = {\n",
    "        \"remaining_stock\": stock_left,\n",
    "        \"total_value\": total_price\n",
    "        }\n",
    "        print(new_inventory)\n",
    "\n",
    "    else:\n",
    "        print(f\"Error: Not enough {item} in stock. Available: {stock}, Requested: {requested_qty}\")\n",
    "\n",
    "  "
   ]
  },
  {
   "cell_type": "markdown",
   "id": "d8d7c02b",
   "metadata": {},
   "source": [
    "Phonebook with Search\n",
    "\n",
    "Input: dictionary of contacts:\n",
    "\n",
    "phonebook = {\n",
    "    \"Alice\": {\"phone\": \"123-4567\", \"email\": \"alice@mail.com\"},\n",
    "    \"Bob\": {\"phone\": \"555-1212\", \"email\": \"bob@mail.com\"}\n",
    "}\n",
    "\n",
    "Task:\n",
    "\n",
    "Add new contacts.\n",
    "\n",
    "Search by name or phone number.\n",
    "\n",
    "Bonus: support partial matches (searching \"Ali\" should find \"Alice\")."
   ]
  },
  {
   "cell_type": "code",
   "execution_count": 34,
   "id": "cb48ff04",
   "metadata": {},
   "outputs": [
    {
     "name": "stdout",
     "output_type": "stream",
     "text": [
      "kai not found in phonebook.\n"
     ]
    }
   ],
   "source": [
    "phonebook = {\n",
    "    \"Alice\": {\"phone\": \"123-4567\", \"email\": \"alice@mail.com\"},\n",
    "    \"Bob\": {\"phone\": \"555-1212\", \"email\": \"bob@mail.com\"}\n",
    "}\n",
    "\n",
    "\n",
    "phonebook[\"Kai\"] = {\"phone\": \"444-444\", \"email\": \"kai@gmail.com\"}\n",
    "#using update\n",
    "\n",
    "phonebook.update({\n",
    "    \"Caleb\": {\"phone\": \"333-333\", \"email\": \"caleb@gmail.com\"},\n",
    "    \"Crawling\": {\"phone\": \"666-666\", \"email\": \"crawling@gmail.com\"}\n",
    "})\n",
    "\n",
    "\n",
    "#asking user input\n",
    "for i in range(2):\n",
    "    name = input(\"Enter name: \")\n",
    "    phone = input(\"Enter phone: \")\n",
    "    email = input(\"Enter email: \")\n",
    "    phonebook[name] = {\"phone\": phone, \"email\": email}\n",
    "\n",
    "# searching by name or phone number\n",
    "\n",
    "search = str(input(\"Search by name: \"))\n",
    "result = phonebook.get(search)\n",
    "\n",
    "    \n",
    "if result:\n",
    "    print(result)\n",
    "else:\n",
    "    print(f\"{search} not found in phonebook.\")\n"
   ]
  }
 ],
 "metadata": {
  "kernelspec": {
   "display_name": "Python 3",
   "language": "python",
   "name": "python3"
  },
  "language_info": {
   "codemirror_mode": {
    "name": "ipython",
    "version": 3
   },
   "file_extension": ".py",
   "mimetype": "text/x-python",
   "name": "python",
   "nbconvert_exporter": "python",
   "pygments_lexer": "ipython3",
   "version": "3.13.3"
  }
 },
 "nbformat": 4,
 "nbformat_minor": 5
}
